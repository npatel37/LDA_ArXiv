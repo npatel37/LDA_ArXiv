{
 "cells": [
  {
   "cell_type": "code",
   "execution_count": 2,
   "metadata": {},
   "outputs": [],
   "source": [
    "import urllib\n",
    "import string\n",
    "import numpy as np\n",
    "import pandas as pd\n",
    "import _pickle as cPickle\n",
    "from nltk.corpus import stopwords\n",
    "from time import time\n",
    "import sklearn\n",
    "from sklearn.feature_extraction.text import TfidfVectorizer, CountVectorizer\n",
    "from sklearn.decomposition import LatentDirichletAllocation\n",
    "from sklearn.utils import shuffle\n",
    "import matplotlib.pyplot as plt\n",
    "%matplotlib inline"
   ]
  },
  {
   "cell_type": "markdown",
   "metadata": {},
   "source": [
    "## Get the Data from ArXiv"
   ]
  },
  {
   "cell_type": "code",
   "execution_count": 3,
   "metadata": {},
   "outputs": [],
   "source": [
    "data_dfKeys = ['id','authors','published','title','abstitle',\"prim_cat\"]\n",
    "data_df = pd.DataFrame(columns=data_dfKeys)\n",
    "\n",
    "tmp_dict = {}\n",
    "for year in range(1992,2018):\n",
    "    filename = \"../Arxiv_DataSet/ArXivCondMat_\"+str(year)+\".pickle\"\n",
    "    tmp_df = pd.read_pickle(filename)\n",
    "    tmp_dict[year] = len(tmp_df)\n",
    "    #print year, len(tmp_df)\n",
    "    data_df = data_df.append(tmp_df, ignore_index=True)\n",
    "del tmp_dict[2017]"
   ]
  },
  {
   "cell_type": "code",
   "execution_count": 4,
   "metadata": {},
   "outputs": [
    {
     "name": "stdout",
     "output_type": "stream",
     "text": [
      "25 25\n",
      "Coefficients:  [695.29230769]\n",
      "Intercept:  [-1384459.50461538]\n"
     ]
    },
    {
     "name": "stderr",
     "output_type": "stream",
     "text": [
      "/home/npatel/miniconda3/lib/python3.6/site-packages/matplotlib/axes/_base.py:3604: MatplotlibDeprecationWarning: \n",
      "The `ymin` argument was deprecated in Matplotlib 3.0 and will be removed in 3.2. Use `bottom` instead.\n",
      "  alternative='`bottom`', obj_type='argument')\n"
     ]
    },
    {
     "data": {
      "image/png": "[encoded data removed]",
      "text/plain": [
       "<Figure size 432x288 with 1 Axes>"
      ]
     },
     "metadata": {
      "needs_background": "light"
     },
     "output_type": "display_data"
    }
   ],
   "source": [
    "lists = sorted(tmp_dict.items()) # sorted by key, return a list of tuples\n",
    "x, y = zip(*lists) # unpack a list of pairs into two tuples\n",
    "x = np.asarray(x).reshape(-1,1)\n",
    "y = np.asarray(y).reshape(-1,1)\n",
    "regr = sklearn.linear_model.LinearRegression()\n",
    "print (len(x), len(y))\n",
    "model = regr.fit(x,y)\n",
    "plt.scatter(x, y,  color='black')\n",
    "plt.plot(x, regr.predict(x), color='blue',linewidth=3)\n",
    "plt.xlabel(\"Year\",size=16)\n",
    "plt.ylabel(\"# Doc\",size=16)\n",
    "plt.xticks(size=16)\n",
    "plt.yticks(size=16)\n",
    "plt.ylim(ymin=-100)\n",
    "print('Coefficients: ', regr.coef_[0])\n",
    "print(\"Intercept: \", regr.intercept_)"
   ]
  },
  {
   "cell_type": "code",
   "execution_count": 5,
   "metadata": {},
   "outputs": [
    {
     "name": "stdout",
     "output_type": "stream",
     "text": [
      "total number of documents:  224607\n"
     ]
    },
    {
     "data": {
      "text/html": [
       "<div>\n",
       "<style scoped>\n",
       "    .dataframe tbody tr th:only-of-type {\n",
       "        vertical-align: middle;\n",
       "    }\n",
       "\n",
       "    .dataframe tbody tr th {\n",
       "        vertical-align: top;\n",
       "    }\n",
       "\n",
       "    .dataframe thead th {\n",
       "        text-align: right;\n",
       "    }\n",
       "</style>\n",
       "<table border=\"1\" class=\"dataframe\">\n",
       "  <thead>\n",
       "    <tr style=\"text-align: right;\">\n",
       "      <th></th>\n",
       "      <th>id</th>\n",
       "      <th>authors</th>\n",
       "      <th>published</th>\n",
       "      <th>title</th>\n",
       "      <th>abstitle</th>\n",
       "      <th>prim_cat</th>\n",
       "    </tr>\n",
       "  </thead>\n",
       "  <tbody>\n",
       "    <tr>\n",
       "      <th>0</th>\n",
       "      <td>cond-mat/9603180</td>\n",
       "      <td>Juan M. LÃ³pez, Miguel A. RodrÃ­guez</td>\n",
       "      <td>unpublished</td>\n",
       "      <td>lack of selfaffinity and anomalous roughening ...</td>\n",
       "      <td>lack selfaffinity anomalous roughening growth ...</td>\n",
       "      <td>cond-mat</td>\n",
       "    </tr>\n",
       "    <tr>\n",
       "      <th>1</th>\n",
       "      <td>cond-mat/9204001</td>\n",
       "      <td>Subir Sachdev, Jinwu Ye</td>\n",
       "      <td>Phys.Rev.Lett. 69 (1992) 2411</td>\n",
       "      <td>universal quantum critical dynamics of twodime...</td>\n",
       "      <td>universal quantum critical dynamics twodimensi...</td>\n",
       "      <td>cond-mat</td>\n",
       "    </tr>\n",
       "    <tr>\n",
       "      <th>2</th>\n",
       "      <td>cond-mat/9204002</td>\n",
       "      <td>Alexander Balatsky</td>\n",
       "      <td>DOI:10.1142/S0217979292000463</td>\n",
       "      <td>spin singlet quantum hall effect and nonabelia...</td>\n",
       "      <td>spin singlet quantum hall effect nonabelian la...</td>\n",
       "      <td>cond-mat</td>\n",
       "    </tr>\n",
       "    <tr>\n",
       "      <th>3</th>\n",
       "      <td>cond-mat/9204003</td>\n",
       "      <td>Alexander Balatsky, Elihu Abrahams</td>\n",
       "      <td>unpublished</td>\n",
       "      <td>a novel class of singlet superconductors</td>\n",
       "      <td>novel class singlet superconductors new class ...</td>\n",
       "      <td>cond-mat</td>\n",
       "    </tr>\n",
       "    <tr>\n",
       "      <th>4</th>\n",
       "      <td>cond-mat/9204004</td>\n",
       "      <td>Srinandan Dasmahapatra, Rinat Kedem, Barry M. ...</td>\n",
       "      <td>unpublished</td>\n",
       "      <td>physics beyond quasiparticles spectrum and com...</td>\n",
       "      <td>physics beyond quasiparticles spectrum complet...</td>\n",
       "      <td>cond-mat</td>\n",
       "    </tr>\n",
       "  </tbody>\n",
       "</table>\n",
       "</div>"
      ],
      "text/plain": [
       "                 id                                            authors  \\\n",
       "0  cond-mat/9603180               Juan M. LÃ³pez, Miguel A. RodrÃ­guez   \n",
       "1  cond-mat/9204001                            Subir Sachdev, Jinwu Ye   \n",
       "2  cond-mat/9204002                                 Alexander Balatsky   \n",
       "3  cond-mat/9204003                 Alexander Balatsky, Elihu Abrahams   \n",
       "4  cond-mat/9204004  Srinandan Dasmahapatra, Rinat Kedem, Barry M. ...   \n",
       "\n",
       "                       published  \\\n",
       "0                    unpublished   \n",
       "1  Phys.Rev.Lett. 69 (1992) 2411   \n",
       "2  DOI:10.1142/S0217979292000463   \n",
       "3                    unpublished   \n",
       "4                    unpublished   \n",
       "\n",
       "                                               title  \\\n",
       "0  lack of selfaffinity and anomalous roughening ...   \n",
       "1  universal quantum critical dynamics of twodime...   \n",
       "2  spin singlet quantum hall effect and nonabelia...   \n",
       "3           a novel class of singlet superconductors   \n",
       "4  physics beyond quasiparticles spectrum and com...   \n",
       "\n",
       "                                            abstitle  prim_cat  \n",
       "0  lack selfaffinity anomalous roughening growth ...  cond-mat  \n",
       "1  universal quantum critical dynamics twodimensi...  cond-mat  \n",
       "2  spin singlet quantum hall effect nonabelian la...  cond-mat  \n",
       "3  novel class singlet superconductors new class ...  cond-mat  \n",
       "4  physics beyond quasiparticles spectrum complet...  cond-mat  "
      ]
     },
     "execution_count": 5,
     "metadata": {},
     "output_type": "execute_result"
    }
   ],
   "source": [
    "print(\"total number of documents: \", len(data_df))\n",
    "data_df.head()"
   ]
  },
  {
   "cell_type": "code",
   "execution_count": 6,
   "metadata": {},
   "outputs": [
    {
     "name": "stdout",
     "output_type": "stream",
     "text": [
      "Number of categories on ArXiv:  10\n",
      "Categories on ArXiv:  ['cond-mat' 'stat-mech' 'supr-con' 'dis-nn' 'mes-hall' 'str-el' 'mtrl-sci'\n",
      " 'other' 'soft' 'quant-gas']\n"
     ]
    }
   ],
   "source": [
    "print(\"Number of categories on ArXiv: \", len(data_df[\"prim_cat\"].unique()))\n",
    "print(\"Categories on ArXiv: \", data_df[\"prim_cat\"].unique())"
   ]
  },
  {
   "cell_type": "code",
   "execution_count": 13,
   "metadata": {},
   "outputs": [
    {
     "data": {
      "text/plain": [
       "<matplotlib.axes._subplots.AxesSubplot at 0x7ff7bfc3deb8>"
      ]
     },
     "execution_count": 13,
     "metadata": {},
     "output_type": "execute_result"
    },
    {
     "data": {
      "image/png": "[encoded data removed]",
      "text/plain": [
       "<Figure size 432x288 with 1 Axes>"
      ]
     },
     "metadata": {
      "needs_background": "light"
     },
     "output_type": "display_data"
    }
   ],
   "source": [
    "cat_count = pd.Series.value_counts(data_df['prim_cat'])\n",
    "cat_count.plot.bar(title=\"# Documents / category\")"
   ]
  },
  {
   "cell_type": "code",
   "execution_count": 14,
   "metadata": {},
   "outputs": [
    {
     "data": {
      "text/plain": [
       "224607"
      ]
     },
     "execution_count": 14,
     "metadata": {},
     "output_type": "execute_result"
    }
   ],
   "source": [
    "len(data_df)"
   ]
  },
  {
   "cell_type": "code",
   "execution_count": null,
   "metadata": {},
   "outputs": [],
   "source": []
  },
  {
   "cell_type": "markdown",
   "metadata": {},
   "source": [
    "## Load Saved Model and Model Parameters"
   ]
  },
  {
   "cell_type": "code",
   "execution_count": null,
   "metadata": {},
   "outputs": [],
   "source": []
  },
  {
   "cell_type": "code",
   "execution_count": 15,
   "metadata": {},
   "outputs": [],
   "source": [
    "tf = cPickle.load(open('model_parameters/tf.p','rb'),encoding='iso-8859-1')"
   ]
  },
  {
   "cell_type": "code",
   "execution_count": 16,
   "metadata": {},
   "outputs": [],
   "source": [
    "tfidf = cPickle.load(open('model_parameters/tfidf.p','rb'),encoding='iso-8859-1')"
   ]
  },
  {
   "cell_type": "code",
   "execution_count": 17,
   "metadata": {},
   "outputs": [],
   "source": [
    "tfidf_feature_names = cPickle.load(open('model_parameters/tfidf_feature_names.p','rb'),encoding='iso-8859-1')"
   ]
  },
  {
   "cell_type": "code",
   "execution_count": 18,
   "metadata": {},
   "outputs": [],
   "source": [
    "lda = cPickle.load(open('model_parameters/LDAclassifier.model','rb'),encoding='iso-8859-1')"
   ]
  },
  {
   "cell_type": "markdown",
   "metadata": {},
   "source": [
    "## Get predictions for retrieval tasks"
   ]
  },
  {
   "cell_type": "code",
   "execution_count": 79,
   "metadata": {},
   "outputs": [],
   "source": [
    "## Get preditions to find nearest neighbors\n",
    "pred = [lda.transform(tf[index]) for index in range(0,len(data_df))]\n",
    "pred = np.array(pred)"
   ]
  },
  {
   "cell_type": "code",
   "execution_count": 80,
   "metadata": {},
   "outputs": [],
   "source": [
    "cPickle.dump(pred, open('model_parameters/pred.p', 'wb')) "
   ]
  },
  {
   "cell_type": "code",
   "execution_count": 81,
   "metadata": {},
   "outputs": [],
   "source": [
    "pred = cPickle.load(open('model_parameters/pred.p','rb'),encoding='iso-8859-1')"
   ]
  },
  {
   "cell_type": "code",
   "execution_count": 82,
   "metadata": {},
   "outputs": [
    {
     "name": "stdout",
     "output_type": "stream",
     "text": [
      "[[0.00076923 0.00076923 0.00076923 0.00076923 0.02408373 0.10778021\n",
      "  0.04915067 0.42685684 0.0362399  0.00076923 0.00076923 0.02573607\n",
      "  0.00076923 0.00076923 0.00076923 0.00076923 0.19945172 0.00076923\n",
      "  0.00076923 0.00076923 0.11762393 0.00076923 0.00076923 0.00076923\n",
      "  0.00076923]]\n",
      "[[0.00072727 0.01989894 0.10164076 0.05894787 0.00072727 0.00072727\n",
      "  0.33052295 0.02092011 0.00072727 0.00072727 0.00072727 0.00072727\n",
      "  0.00072727 0.00072727 0.01890909 0.00072727 0.366348   0.00072727\n",
      "  0.00072727 0.00072727 0.00072727 0.02313426 0.00072727 0.02270641\n",
      "  0.02606252]]\n",
      "[[3.88349515e-04 3.09780175e-02 3.88349515e-04 3.88349515e-04\n",
      "  3.88349515e-04 3.88349515e-04 6.64758221e-01 3.88349515e-04\n",
      "  1.08385516e-01 3.88349515e-04 3.88349515e-04 3.88349515e-04\n",
      "  3.88349515e-04 3.88349515e-04 3.88349515e-04 3.88349515e-04\n",
      "  3.88349515e-04 3.88349515e-04 3.88349515e-04 3.88349515e-04\n",
      "  3.88349515e-04 5.82668514e-02 3.88349515e-04 1.29844404e-01\n",
      "  3.88349515e-04]]\n",
      "[[0.00102564 0.04796275 0.38740099 0.00102564 0.00102564 0.00102564\n",
      "  0.17595796 0.00102564 0.00102564 0.00102564 0.00102564 0.00102564\n",
      "  0.00102564 0.00102564 0.00102564 0.00102564 0.00102564 0.00102564\n",
      "  0.00102564 0.36713984 0.00102564 0.00102564 0.00102564 0.00102564\n",
      "  0.00102564]]\n"
     ]
    }
   ],
   "source": [
    "print(pred[0])\n",
    "print(pred[1])\n",
    "print(pred[2])\n",
    "print(pred[3])"
   ]
  },
  {
   "cell_type": "code",
   "execution_count": 83,
   "metadata": {},
   "outputs": [],
   "source": [
    "def QueryLda(model,data,q,kneighbors,predictions,tfidf):\n",
    "    from scipy.spatial import distance\n",
    "    N = len(predictions)\n",
    "    query = predictions[q]\n",
    "    dis = np.array([(int(i),distance.euclidean(predictions[i],query)) for i in range(0,N)])\n",
    "    dis = dis[dis[:,1].argsort()]\n",
    "    #print(dis[0:kneighbors])\n",
    "    return [int(dis[x,0]) for x in range(0,kneighbors)]"
   ]
  },
  {
   "cell_type": "code",
   "execution_count": 84,
   "metadata": {},
   "outputs": [],
   "source": [
    "def printneighbors(nb,model,data,tfidf,predictions):\n",
    "    for n in nb:\n",
    "        print (n)\n",
    "        print (data.loc[n])\n",
    "        print (data_df['abstitle'][n])\n",
    "        print (predictions[n])\n",
    "    print ( \" \")"
   ]
  },
  {
   "cell_type": "code",
   "execution_count": 85,
   "metadata": {},
   "outputs": [],
   "source": [
    "def tfidfToWords(doc, tf_idf, feature_names,highestn):\n",
    "    feature_index = tf_idf[doc,:].nonzero()[1]\n",
    "    tfidf_scores = zip(feature_index, [tf_idf[doc, x] for x in feature_index])\n",
    "    out = []\n",
    "    for w, s in [(feature_names[i], s) for (i, s) in tfidf_scores]:\n",
    "        tmp = [w, s]\n",
    "        out.append(tmp)\n",
    "    out = np.array(out)\n",
    "    perm = np.argsort(out[:,1])\n",
    "    out = out[perm][::-1]\n",
    "#     for k in range(0,highestn):\n",
    "#         print out[k]\n",
    "    return out[:highestn]"
   ]
  },
  {
   "cell_type": "code",
   "execution_count": 86,
   "metadata": {},
   "outputs": [],
   "source": [
    "def plotbar(x,doc,outfile):\n",
    "    import matplotlib.pyplot as plt\n",
    "    %matplotlib inline\n",
    "    category = x[:,0]\n",
    "    category_counts = x[:,1]\n",
    "    indexes = np.arange(len(category))\n",
    "    width=0.7\n",
    "    plt.figure(figsize=(12, 5), dpi=80, facecolor='w', edgecolor='k')\n",
    "    titlelabel = \"term frequency (tf) of document: \" + str(doc)\n",
    "    plt.title(titlelabel,fontsize=25, color='black')\n",
    "    plt.bar(indexes,category_counts,width)\n",
    "    plt.xticks(indexes+width*0.5,category,rotation='vertical',fontsize=16)\n",
    "    plt.yticks(fontsize=16)\n",
    "    plt.tight_layout()\n",
    "    plt.savefig(outfile)\n",
    "    plt.show()"
   ]
  },
  {
   "cell_type": "markdown",
   "metadata": {},
   "source": [
    "#### Document: 365"
   ]
  },
  {
   "cell_type": "code",
   "execution_count": null,
   "metadata": {},
   "outputs": [],
   "source": []
  },
  {
   "cell_type": "code",
   "execution_count": 87,
   "metadata": {},
   "outputs": [
    {
     "name": "stdout",
     "output_type": "stream",
     "text": [
      "356\n",
      "id                                            cond-mat/9302026\n",
      "authors                                             Ko Okumura\n",
      "published                             DOI:10.1143/JPSJ.62.1922\n",
      "title        the supergroup umn with regard to electronic h...\n",
      "abstitle     supergroup umn regard electronic hamiltonians ...\n",
      "prim_cat                                              cond-mat\n",
      "Name: 356, dtype: object\n",
      "supergroup umn regard electronic hamiltonians study umn supergroup keeping mind connection electronic hamiltonians explicitly shown generators supergroup unn expressed clifford operators fermi operators multiband supersymmetric electronic model suggested\n",
      "[[0.00137931 0.00137931 0.22615766 0.00137931 0.00137931 0.00137931\n",
      "  0.05626555 0.00137931 0.43510004 0.00137931 0.00137931 0.00137931\n",
      "  0.00137931 0.00137931 0.00137931 0.03607659 0.00137931 0.00137931\n",
      "  0.00137931 0.18093047 0.00137931 0.00137931 0.00137931 0.03926279\n",
      "  0.00137931]]\n",
      "186195\n",
      "id                                                   1410.3272\n",
      "authors                          Jitender Kumar, A. M. Awasthi\n",
      "published        Journal of Applied Physics 118, 034103 (2015)\n",
      "title        copper titanates a family of magnetoquantum pa...\n",
      "abstitle     copper titanates family magnetoquantum paraele...\n",
      "prim_cat                                              mtrl-sci\n",
      "Name: 186195, dtype: object\n",
      "copper titanates family magnetoquantum paraelectrics magnetoquantumparaelectric family emergent shared lowtemperature characteristics representative srcu3ti4o12 scto cacu3ti4o12 ccto ca09li01cu3ti4o12 clcto antiferrotilteda14a34bo3structures magnetic ordering temperatures tn dielectric permittivity scto clcto follow typical quantum paraelectric barrettform unambiguously whereas ccto behaviour masked huge epsilonstep born thermallyactivated siteantisite cacu disorder hidden quantum paraelectricity ccto revealed lidoping casite considerable temperaturescaleupshift colossal dielectric constant cdc anomaly\n",
      "[[0.03830639 0.00067797 0.22552569 0.01825128 0.06128284 0.00067797\n",
      "  0.06174797 0.02214274 0.32189183 0.00067797 0.01762712 0.00067797\n",
      "  0.00067797 0.00067797 0.00067797 0.01762712 0.00067797 0.10237288\n",
      "  0.00067797 0.00067797 0.03826946 0.00067797 0.00067797 0.06614114\n",
      "  0.00067797]]\n",
      "15404\n",
      "id                                            cond-mat/9810131\n",
      "authors                    Jing-Ling Chen, Mo-Lin Ge, Kang Xue\n",
      "published                                          unpublished\n",
      "title                  shift operators for xxxheisenberg chain\n",
      "abstitle     shift operators xxxheisenberg chain shift oper...\n",
      "prim_cat                                              cond-mat\n",
      "Name: 15404, dtype: object\n",
      "shift operators xxxheisenberg chain shift operators xxxheisenberg chain found formed local yangian operators amplitutes eigenfunctions obeying bethe ansatz hamiltonian physical implication shift operators also explained\n",
      "[[0.00153846 0.16193753 0.19701001 0.00153846 0.00153846 0.04887462\n",
      "  0.18114096 0.00153846 0.38026764 0.00153846 0.00153846 0.00153846\n",
      "  0.00153846 0.00153846 0.00153846 0.00153846 0.00153846 0.00153846\n",
      "  0.00153846 0.00153846 0.00153846 0.00153846 0.00153846 0.00153846\n",
      "  0.00153846]]\n",
      "190664\n",
      "id                                                  1501.03479\n",
      "authors                                            Emil Prodan\n",
      "published                                          unpublished\n",
      "title        intrinsic chernconnes characters for crossed p...\n",
      "abstitle     intrinsic chernconnes characters crossed produ...\n",
      "prim_cat                                                str-el\n",
      "Name: 190664, dtype: object\n",
      "intrinsic chernconnes characters crossed products mathbb zd present natural imbedding crossed product mathcal rtimesxi mathbb zd castalgebra adjointable operators standard hilbert mathcal amodule mathcal hmathcal replacing representations hilbert spaces canonical imbedding define fredholm modules corresponding chernconnes characters intrinsic castdynamical system mathcal aximathbb zd compression dirac operator projectors mathcal rtimesxi mathbb zd produces generalized fredholm operators mathcal hmathcal mingos index defines kkmap k0mathcal rtimesxi mathbb zd kmathcal using generalized fedosov principle generalized fedosov formula prove index formula pairing intrinsic chernconnes characters k0mathcal rtimesxi mathbb zd pairing takes values image k0mathcal mathbb r canonical trace local index formula enables new applications condensed matter physics called weak topological invariants\n",
      "[[3.77358491e-04 2.01837711e-02 5.14927930e-02 3.77358491e-04\n",
      "  3.77358491e-04 3.77358491e-04 1.87754053e-02 3.77358491e-04\n",
      "  4.23027526e-01 4.94270761e-02 2.86792453e-02 3.77358491e-04\n",
      "  3.77358491e-04 3.77358491e-04 5.69811321e-02 2.86837243e-02\n",
      "  9.15684403e-02 3.77358491e-04 3.77358491e-04 2.68442973e-02\n",
      "  7.90422994e-02 8.06578921e-02 3.77358491e-04 4.01080955e-02\n",
      "  3.77358491e-04]]\n",
      "103180\n",
      "id                                                   0810.1136\n",
      "authors      D. Zanchi, C. Poulain, P. Konarev, C. Tribet, ...\n",
      "published                   DOI:10.1088/0953-8984/20/49/494224\n",
      "title        colloidal stability of tannins astringency win...\n",
      "abstitle     colloidal stability tannins astringency wine t...\n",
      "prim_cat                                                  soft\n",
      "Name: 103180, dtype: object\n",
      "colloidal stability tannins astringency wine tasting beyond tannintannin tanninprotein interactions waterethanol solvent mixtures studied context red wine tasting tannin selfaggregation relevant visual aspect wine tasting limpidity related colloidal phenomena tannin affinities salivary prolinerich proteins fundamental wide spectrum organoleptic properties related astringency tannintannin interactions analyzed waterethanol winelike solvents precipitation map constructed typical grape tannin interaction tannins human salivary prolinerich proteins prp investigated framework shell model micellization known describing tannininduced aggregation betacasein tanninassisted micellization compaction proteins observed saxs described quantitatively discussed case astringency\n",
      "[[0.0004878  0.03868859 0.0004878  0.0004878  0.03110057 0.07376727\n",
      "  0.10988173 0.0004878  0.36886083 0.0004878  0.0004878  0.0004878\n",
      "  0.02760517 0.06146341 0.0004878  0.01268824 0.0004878  0.0004878\n",
      "  0.02487805 0.13021698 0.10074982 0.0004878  0.0004878  0.0004878\n",
      "  0.01375786]]\n",
      "85235\n",
      "id                                            cond-mat/0703737\n",
      "authors                             Zhibing Li, Chengguang Bao\n",
      "published                                          unpublished\n",
      "title        explanation of the sterngerlach splitting of s...\n",
      "abstitle     explanation sterngerlach splitting spinor cond...\n",
      "prim_cat                                                 other\n",
      "Name: 85235, dtype: object\n",
      "explanation sterngerlach splitting spinor condensates based symmetry sterngerlach splitting spinor condensates explained based total spinstates specified su2 permutation symmetries\n",
      "[[0.002      0.002      0.30423141 0.002      0.002      0.002\n",
      "  0.08270397 0.002      0.19473213 0.002      0.002      0.002\n",
      "  0.002      0.002      0.002      0.002      0.002      0.002\n",
      "  0.102      0.27633249 0.002      0.002      0.002      0.002\n",
      "  0.002     ]]\n",
      " \n"
     ]
    }
   ],
   "source": [
    "id = 356\n",
    "neigh = QueryLda(lda,data_df,id,6,pred,tfidf)\n",
    "printneighbors(neigh,lda,data_df,tfidf,pred)"
   ]
  },
  {
   "cell_type": "code",
   "execution_count": 52,
   "metadata": {},
   "outputs": [],
   "source": [
    "#wordcount = np.array(tfidfToWords(id,tf,tfidf_feature_names,20))\n",
    "#plotbar(wordcount,id,\"query1.pdf\")"
   ]
  },
  {
   "cell_type": "code",
   "execution_count": null,
   "metadata": {},
   "outputs": [],
   "source": []
  },
  {
   "cell_type": "markdown",
   "metadata": {
    "collapsed": true
   },
   "source": [
    "### Document 21281"
   ]
  },
  {
   "cell_type": "code",
   "execution_count": 53,
   "metadata": {},
   "outputs": [
    {
     "name": "stdout",
     "output_type": "stream",
     "text": [
      "21281\n",
      "id                                            cond-mat/9910179\n",
      "authors      Frank K. Wilhelm, Gerd Schoen, Gergely T. Zimanyi\n",
      "published                                          unpublished\n",
      "title        superconducting singlecharge transistor in a t...\n",
      "abstitle     superconducting singlecharge transistor tunabl...\n",
      "prim_cat                                              mes-hall\n",
      "Name: 21281, dtype: object\n",
      "superconducting singlecharge transistor tunable dissipative environment study superconducting singlecharge transistor coherence cooper pair tunneling destroyed coupling tunable dissipative environment sequential tunneling cotunneling processes analyzed construct shape conductance peaks dependence dissipation temperature unexpected features found due crossover two distinct regimes one environmentassisted environmentdominated several predictions confirmed recent experiments model results apply also dynamics josephson junction quantum bits conducting ground plane thus explaining influence dissipation coherence\n",
      "[[0.00061538 0.00061538 0.07683242 0.00061538 0.00061538 0.00061538\n",
      "  0.12103832 0.25145953 0.00061538 0.23955367 0.03138462 0.00061538\n",
      "  0.00061538 0.00061538 0.00061538 0.00061538 0.00061538 0.00061538\n",
      "  0.00061538 0.00061538 0.24378502 0.02486951 0.00061538 0.00061538\n",
      "  0.00061538]]\n",
      "189271\n",
      "id                                                   1412.4136\n",
      "authors      Nathan Killoran, Susana F. Huelga, Martin B. P...\n",
      "published                    J. Chem. Phys. 143, 155102 (2015)\n",
      "title        enhancing lightharvesting power with coherent ...\n",
      "abstitle     enhancing lightharvesting power coherent vibra...\n",
      "prim_cat                                                  soft\n",
      "Name: 189271, dtype: object\n",
      "enhancing lightharvesting power coherent vibrational interactions quantum heat engine picture recent evidence suggests quantum effects may functional importance biological lightharvesting systems along delocalized electronic excitations suspected quantum coherent interactions certain nearresonant vibrations may contribute lightharvesting performance however actual quantum advantage offered coherent vibrational interactions yet established investigate quantum design principle whereby coherent exchange single energy quanta electronic vibrational degrees freedom enhance lightharvesting systems power possible thermal mechanisms alone present prototype quantum heat engine cleanly illustrates quantum design principle quantify quantum advantage using thermodynamic measures performance also demonstrate principles relevance parameter regimes connected natural lightharvesting structures\n",
      "[[0.00041667 0.00041667 0.06153001 0.00041667 0.01480369 0.00041667\n",
      "  0.09765915 0.24026654 0.0330119  0.22255434 0.00041667 0.01186105\n",
      "  0.00041667 0.00041667 0.00041667 0.0525409  0.00041667 0.02127829\n",
      "  0.00041667 0.01454912 0.22411168 0.00041667 0.00041667 0.00041667\n",
      "  0.00041667]]\n",
      "197541\n",
      "id                                                  1507.02586\n",
      "authors            R. Cuan, J. J. GonzÃ¡lez, L. Diago-Cisneros\n",
      "published                                          unpublished\n",
      "title        quantum transport properties in dattadas tuned...\n",
      "abstitle     quantum transport properties dattadas tuned op...\n",
      "prim_cat                                              mes-hall\n",
      "Name: 197541, dtype: object\n",
      "quantum transport properties dattadas tuned opacity spintransistors studied spindependent quantum transport properties using simple modelling dattadas spin transistor refine previous results accounting propagation medium changes opacity felt itinerant electrons gatevoltage switched modelling via transversal energy levels mismatch monitoring topologicaldependent conductance able identify device operating points incoming electrons energy approaches biasedinduced barriers height spinresolved conductance oscillations become significant zero temperature picture computations spindependent conductance function electric field region gate electrode suggest feasibility modeled device although demonstrate phase time may spinresolved simulation allows us evaluate time takes electron experience spinflip process resulting order magnitude lower typical values spin relaxation times\n",
      "[[0.00040404 0.00040404 0.0547793  0.00040404 0.00040404 0.00040404\n",
      "  0.07459249 0.24106462 0.00040404 0.28130699 0.01050505 0.0111226\n",
      "  0.00040404 0.00040404 0.00040404 0.00040404 0.00040404 0.00040404\n",
      "  0.03070707 0.00040404 0.25189344 0.00040404 0.00040404 0.0375638\n",
      "  0.00040404]]\n",
      "105016\n",
      "id                                                   0812.3634\n",
      "authors          Tomi Ruokola, Teemu Ojanen, Antti-Pekka Jauho\n",
      "published                       Phys. Rev. B 79, 144306 (2009)\n",
      "title        thermal rectification in nonlinear quantum cir...\n",
      "abstitle     thermal rectification nonlinear quantum circui...\n",
      "prim_cat                                              mes-hall\n",
      "Name: 105016, dtype: object\n",
      "thermal rectification nonlinear quantum circuits present theoretical study radiative heat transport nonlinear solidstate quantum circuits give detailed account heat rectification effects ie asymmetry heat current respect reversal thermal gradient system consisting two reservoirs finite temperatures coupled nonlinear resonator suggest experimentally feasible superconducting circuit employing josephson nonlinearity realize controllable low temperature heat rectifier maximal asymmetry order 10 also discover parameter regime rectification changes sign function temperature\n",
      "[[0.00060606 0.00060606 0.06707486 0.00060606 0.00060606 0.00060606\n",
      "  0.14999555 0.29231415 0.00060606 0.27063145 0.00060606 0.00060606\n",
      "  0.00060606 0.00060606 0.00060606 0.01608904 0.00060606 0.00060606\n",
      "  0.00060606 0.00060606 0.19237981 0.00060606 0.00060606 0.00060606\n",
      "  0.00060606]]\n",
      "167868\n",
      "id                                                   1308.5781\n",
      "authors                       Andreas Engel, Andreas Schilling\n",
      "published              J. Appl. Phys., Vol. 114, 214501 (2013)\n",
      "title        numerical analysis of detectionmechanism model...\n",
      "abstitle     numerical analysis detectionmechanism models s...\n",
      "prim_cat                                              supr-con\n",
      "Name: 167868, dtype: object\n",
      "numerical analysis detectionmechanism models snspd microscopic mechanism photon detection superconducting nanowire singlephoton detectors still debate present simple powerful theoretical model allows us identify essential differences competing detection mechanisms model based quasiparticle multiplication diffusion absorption photon use calculated spatial temporal evolution quasiparticle cloud determine detection criteria three distinct detection mechanisms based formation normal conducting spot reduction effective depairing critical current bias current vortexcrossing scenario respectively calculations well comparison experimental data strongly support vortexcrossing detection mechanism vortices antivortices enter superconducting strip edges subsequently traverse thereby triggering detectable normal conducting domain results may therefore help reveal microscopic mechanism responsible detection photons superconducting nanowires\n",
      "[[0.00039604 0.00039604 0.08310349 0.01046446 0.01344591 0.00039604\n",
      "  0.12042394 0.24035212 0.01318767 0.17435636 0.00039604 0.00039604\n",
      "  0.01135059 0.00039604 0.01029703 0.00039604 0.00039604 0.02041077\n",
      "  0.00039604 0.00039604 0.24174358 0.00039604 0.01029703 0.02491605\n",
      "  0.02129458]]\n",
      "99358\n",
      "id                                                   0807.5002\n",
      "authors      L. Besombes, Y. Leger, J. Bernos, H. Boukari, ...\n",
      "published                       DOI:10.1103/PhysRevB.78.125324\n",
      "title        optical probing of spin fluctuations of a sing...\n",
      "abstitle     optical probing spin fluctuations single magne...\n",
      "prim_cat                                                 other\n",
      "Name: 99358, dtype: object\n",
      "optical probing spin fluctuations single magnetic atom analyzed photoluminescence intermittency generated single paramagnetic spin localized individual semiconductor quantum dot statistics photons emitted quantum dot reflect quantum fluctuations localized spin interacting injected carriers photon correlation measurements reported reveal unique signatures fluctuations phenomenological model proposed quantitatively describe observations allowing measurement spin dynamics individual magnetic atom zero magnetic field results demonstrate existence efficient spin relaxation channel arising spinexchange individual carriers surrounding quantum dot theoretical description spinflip mechanism involving spin exchange surrounding carriers gives relaxation times good agreement measured dynamics\n",
      "[[0.02379406 0.01348654 0.06762865 0.00045977 0.00045977 0.00045977\n",
      "  0.17500288 0.23544134 0.00045977 0.22727554 0.01195402 0.00045977\n",
      "  0.00045977 0.00045977 0.00045977 0.00045977 0.00045977 0.00045977\n",
      "  0.00045977 0.00045977 0.20168872 0.00045977 0.00045977 0.00045977\n",
      "  0.03637192]]\n",
      " \n"
     ]
    }
   ],
   "source": [
    "id = 21281\n",
    "neigh = QueryLda(lda,data_df,id,6,pred,tfidf)\n",
    "printneighbors(neigh,lda,data_df,tfidf,pred)"
   ]
  },
  {
   "cell_type": "code",
   "execution_count": null,
   "metadata": {
    "collapsed": true
   },
   "outputs": [],
   "source": []
  },
  {
   "cell_type": "code",
   "execution_count": 56,
   "metadata": {},
   "outputs": [],
   "source": [
    "#wordcount = np.array(tfidfToWords(21281,tf,tfidf_feature_names,20))\n",
    "#plotbar(wordcount,21281,\"query2.pdf\")"
   ]
  },
  {
   "cell_type": "code",
   "execution_count": null,
   "metadata": {
    "collapsed": true
   },
   "outputs": [],
   "source": []
  },
  {
   "cell_type": "markdown",
   "metadata": {
    "collapsed": true
   },
   "source": [
    "### Document 32461"
   ]
  },
  {
   "cell_type": "code",
   "execution_count": 55,
   "metadata": {},
   "outputs": [],
   "source": [
    "#neigh = QueryLda(lda,data_df,32461,10,pred,tf)\n",
    "#printneighbors(neigh,lda,data_df,tf)\n",
    "#tfidfToWords(32461,tf,tfidf_feature_names,20)"
   ]
  },
  {
   "cell_type": "code",
   "execution_count": 57,
   "metadata": {},
   "outputs": [],
   "source": [
    "#wordcount = np.array(tfidfToWords(32461,tf,tfidf_feature_names,30))\n",
    "#plotbar(wordcount,32461,\"query3.pdf\")"
   ]
  },
  {
   "cell_type": "code",
   "execution_count": null,
   "metadata": {},
   "outputs": [],
   "source": []
  },
  {
   "cell_type": "markdown",
   "metadata": {
    "collapsed": true
   },
   "source": [
    "### Document 209992"
   ]
  },
  {
   "cell_type": "code",
   "execution_count": 23,
   "metadata": {},
   "outputs": [
    {
     "data": {
      "text/html": [
       "<div>\n",
       "<table border=\"1\" class=\"dataframe\">\n",
       "  <thead>\n",
       "    <tr style=\"text-align: right;\">\n",
       "      <th></th>\n",
       "      <th>id</th>\n",
       "      <th>authors</th>\n",
       "      <th>published</th>\n",
       "      <th>title</th>\n",
       "      <th>abstitle</th>\n",
       "      <th>prim_cat</th>\n",
       "    </tr>\n",
       "  </thead>\n",
       "  <tbody>\n",
       "    <tr>\n",
       "      <th>209992</th>\n",
       "      <td>1604.03621</td>\n",
       "      <td>Niravkumar D. Patel, Alberto Nocera, Gonzalo A...</td>\n",
       "      <td>DOI:10.1103/PhysRevB.94.075119</td>\n",
       "      <td>magnetic properties and pairing tendencies of ...</td>\n",
       "      <td>magnetic properties pairing tendencies ironbas...</td>\n",
       "      <td>str-el</td>\n",
       "    </tr>\n",
       "  </tbody>\n",
       "</table>\n",
       "</div>"
      ],
      "text/plain": [
       "                id                                            authors  \\\n",
       "209992  1604.03621  Niravkumar D. Patel, Alberto Nocera, Gonzalo A...   \n",
       "\n",
       "                             published  \\\n",
       "209992  DOI:10.1103/PhysRevB.94.075119   \n",
       "\n",
       "                                                    title  \\\n",
       "209992  magnetic properties and pairing tendencies of ...   \n",
       "\n",
       "                                                 abstitle prim_cat  \n",
       "209992  magnetic properties pairing tendencies ironbas...   str-el  "
      ]
     },
     "execution_count": 23,
     "metadata": {},
     "output_type": "execute_result"
    }
   ],
   "source": [
    "data_df[data_df['id']=='1604.03621']"
   ]
  },
  {
   "cell_type": "code",
   "execution_count": 58,
   "metadata": {},
   "outputs": [
    {
     "name": "stdout",
     "output_type": "stream",
     "text": [
      "209992\n",
      "id                                                  1604.03621\n",
      "authors      Niravkumar D. Patel, Alberto Nocera, Gonzalo A...\n",
      "published                       DOI:10.1103/PhysRevB.94.075119\n",
      "title        magnetic properties and pairing tendencies of ...\n",
      "abstitle     magnetic properties pairing tendencies ironbas...\n",
      "prim_cat                                                str-el\n",
      "Name: 209992, dtype: object\n",
      "magnetic properties pairing tendencies ironbased superconducting ladder bafe2s3 combined ab initio density matrix renormalization group study recent discovery superconductivity high pressure twoleg ladder compound bafe2s3 h takahashi et al nature materials 14 1008 2015 opens broad avenue research represents first report pairing tendencies quasi onedimensional ironbased high critical temperature superconductor similarly case cuprates ladders chains far accurately studied using manybody techniques model hamiltonians layered counterparts particularly several orbitals active publication derive twoorbital hubbard model first principles describes individual ladders bafe2s3 model studied density matrix renormalization group first reported results exciting two reasons halffilling ferromagnetic order emerges dominant magnetic pattern along rungs ladder antiferromagnetic order along legs excellent agreement neutron experiments ii pairs form strong coupling regime found studying binding energy two holes doped halffilled system addition orbital selective mott phase characteristics develop doping one wannier orbital receiving hole carriers remains halffilled results suggest analysis models ironbased twoleg ladders could clarify origin pairing tendencies exotic properties ironbased high critical temperature superconductors\n",
      "[[4.80097643e-02 1.69657812e-02 2.67370861e-01 3.91804275e-02\n",
      "  3.17346582e-02 2.50000000e-04 2.95451572e-01 1.55373930e-02\n",
      "  7.12034679e-03 2.50000000e-04 2.50000000e-04 2.50000000e-04\n",
      "  1.53720889e-02 7.77761382e-03 8.15000000e-02 2.50000000e-04\n",
      "  3.42243801e-02 1.43864511e-02 2.50000000e-04 2.50000000e-04\n",
      "  1.22618662e-01 2.50000000e-04 2.50000000e-04 2.50000000e-04\n",
      "  2.50000000e-04]]\n",
      "197012\n",
      "id                                                  1507.05715\n",
      "authors      Ryotaro Arita, Hiroaki Ikeda, Shiro Sakai, Mic...\n",
      "published                       Phys. Rev. B 92, 054515 (2015)\n",
      "title        ab initio downfolding study of the ironbased l...\n",
      "abstitle     ab initio downfolding study ironbased ladder s...\n",
      "prim_cat                                              supr-con\n",
      "Name: 197012, dtype: object\n",
      "ab initio downfolding study ironbased ladder superconductor bafe2s3 motivated recent discovery superconductivity ironbased ladder compound bafe2s3 high pressure derive lowenergy effective hamiltonians first principles show complex band structure around fermi level represented fe 3dxz mixed 3dxy 3dx2y2 orbitals characteristic band degeneracy allows us construct fourband model band unfolding approach also estimate interaction parameters show system correlated 1111 family ironbased superconductors provided superconductivity mediated spin fluctuations 3dxzlike band plays essential role gap function changes sign fermi surface around gamma point around brillouinzone boundary\n",
      "[[0.06811819 0.00048193 0.29354761 0.04026359 0.00048193 0.00048193\n",
      "  0.26392222 0.00048193 0.03075527 0.00048193 0.00048193 0.00048193\n",
      "  0.01447527 0.00048193 0.07277108 0.00048193 0.04366064 0.0374886\n",
      "  0.01253012 0.00048193 0.11572042 0.00048193 0.00048193 0.00048193\n",
      "  0.00048193]]\n",
      "98626\n",
      "id                                                   0806.1207\n",
      "authors      A. B. Sushkov, M. Mostovoy, R. Valdes Aguilar,...\n",
      "published                   DOI:10.1088/0953-8984/20/43/434210\n",
      "title        electromagnons in multiferroic rmn2o5 compound...\n",
      "abstitle     electromagnons multiferroic rmn2o5 compounds m...\n",
      "prim_cat                                              mtrl-sci\n",
      "Name: 98626, dtype: object\n",
      "electromagnons multiferroic rmn2o5 compounds microscopic origin summarize existing experimental data electromagnons multiferroic rmn2o5 compounds r denotes rare earth ion bi discuss realistic microscopic model materials based assumption microscopic mechanism magneticallyinduced ferroelectricity electromagnon absorption relies entirely isotropic heisenberg exchange magnetostrictive coupling spins polar lattice mode involve relativistic effects model explains many magnetic optical properties rmn2o5 manganites spin reorientation transition magneticallyinduced polarisation appearance electromagnon peak noncollinear spin state polarisation light peak observed compare experimental theoretical results electromagnons rmn2o5 rmno3 compounds\n",
      "[[0.07356353 0.00051282 0.25872475 0.08733271 0.00051282 0.00051282\n",
      "  0.26570415 0.00051282 0.01970991 0.00051282 0.00051282 0.00051282\n",
      "  0.02496721 0.00051282 0.09025641 0.00051282 0.01387573 0.03989425\n",
      "  0.00051282 0.00051282 0.11827905 0.00051282 0.00051282 0.00051282\n",
      "  0.00051282]]\n",
      "22820\n",
      "id                                            cond-mat/0001089\n",
      "authors      M. Roy, J. F. Mitchell, S. J. Potashnik, P. Sc...\n",
      "published                    DOI:10.1016/S0304-8853(00)00393-0\n",
      "title        field dependent specificheat of rare earth man...\n",
      "abstitle     field dependent specificheat rare earth mangan...\n",
      "prim_cat                                              cond-mat\n",
      "Name: 22820, dtype: object\n",
      "field dependent specificheat rare earth manganites low temperature specific heat ch several rareearth manganites la07sr03mno3 nd05sr05mno3 pr05sr05mno3 la067ca033mno3 la05ca05mno3 la045ca055mno3 la033ca067mno3 measured function magnetic field observed behaviour consistent thermodynamic expectations ie ch decreases field ferromagnetic metallic compounds amount quantitative agreement spin wave theory also find ch increases field compounds chargeordered antiferromagnetic ground state compounds show evidence coexistence ferromagnetic metallic antiferromagnetic chargeordered states ch displays unusual nonequilibrium effects presumably associated phaseseparation two states also observe large anomalous low temperature specific heat doping induced metalinsulator transition x 050 la1xcaxmno3\n",
      "[[0.04814765 0.00045977 0.28023854 0.03248194 0.0361459  0.00045977\n",
      "  0.25667504 0.00045977 0.00045977 0.00045977 0.01195402 0.00045977\n",
      "  0.03169248 0.00045977 0.06942529 0.00045977 0.00045977 0.02344828\n",
      "  0.00045977 0.01662777 0.13344039 0.00045977 0.00045977 0.00045977\n",
      "  0.05374569]]\n",
      "140546\n",
      "id                                                   1110.0250\n",
      "authors      Phillip T. Barton, Ram Seshadri, Andrea KnÃ¶ll...\n",
      "published    J. Phys.: Condens. Matter 24 (2012) 016002 [6 ...\n",
      "title        structural and magnetic characterization of th...\n",
      "abstitle     structural magnetic characterization complete ...\n",
      "prim_cat                                              mtrl-sci\n",
      "Name: 140546, dtype: object\n",
      "structural magnetic characterization complete delafossite solid solution cualo21xcucro2x prepared complete delafossite solid solution series diamagnetic cualo2 t2g3 frustrated antiferromagnet cucro2 evolution composition x cual1xcrxo2 crystal structure magnetic properties studied reported roomtemperature unit cell parameters follow vegard law increase x expected effective moment equal cr3 spinonly 32 value throughout entire solid solution theta negative indicating dominant interactions antiferromagnetic magnitude increases cr substitution dilute cr compositions jbb estimated meanfield theory 20 mev despite sizable theta longrange antiferromagnetic order develop large x preceeded glassy behavior data presented dilute alsubstitution okuda et al suggest reduction magnetic frustration due presence nonmagnetic al dominant effect magnetism chemical disorder dilution magnetic exchange samples 5 k isothermal magnetization saturate fields 5 minimal hysteresis observed presence antiferromagnetic interactions clearly evident subbrillouin behavior reduced magnetization per cr atom inspection scaled curie plot reveals significant shortrange antiferromagnetic interactions occur cucro2 neel temperature consistent magnetic frustration uncompensated shortrange interactions present alsubstituted samples likely result chemical disorder\n",
      "[[5.54714272e-02 3.67219569e-02 2.76751443e-01 4.50114760e-02\n",
      "  5.97423105e-02 2.68456376e-04 2.76749251e-01 2.68456376e-04\n",
      "  7.34098708e-03 2.68456376e-04 7.70266434e-03 2.68456376e-04\n",
      "  2.68456376e-04 2.92201754e-02 4.72483221e-02 2.68456376e-04\n",
      "  2.68456376e-04 2.05842951e-02 2.68456376e-04 2.68456376e-04\n",
      "  7.61666629e-02 1.98773753e-02 1.11514532e-02 7.84524102e-03\n",
      "  1.99988511e-02]]\n",
      "215725\n",
      "id                                                  1608.04799\n",
      "authors      Ruidan Zhong, Barry L. Winn, Genda Gu, Dmitry ...\n",
      "published                                          unpublished\n",
      "title           evidence for a nematic phase in la175sr025nio4\n",
      "abstitle     evidence nematic phase la175sr025nio4 determin...\n",
      "prim_cat                                                str-el\n",
      "Name: 215725, dtype: object\n",
      "evidence nematic phase la175sr025nio4 determining nature electronic states doped mott insulators remains challenging task case tetragonal la2xsrxnio4 occurrence diagonal charge spin stripe order ground state well established contrast nature hightemperature disordered state stripe order develops long subject controversy considerable speculation regarding polaronic liquid following recent detection dynamic charge stripes use neutron scattering measurements x025 crystal demonstrate dispersion charge stripe excitations anisotropic observation provides compelling evidence presence electronic nematic order\n",
      "[[0.06443936 0.00057143 0.24870815 0.05909227 0.00057143 0.00057143\n",
      "  0.34653979 0.04089482 0.00057143 0.00057143 0.00057143 0.00057143\n",
      "  0.00057143 0.00057143 0.05771429 0.00057143 0.00057143 0.03123098\n",
      "  0.00057143 0.02139098 0.1208465  0.00057143 0.00057143 0.00057143\n",
      "  0.00057143]]\n",
      " \n"
     ]
    }
   ],
   "source": [
    "id = 209992\n",
    "neigh = QueryLda(lda,data_df,id,6,pred,tfidf)\n",
    "printneighbors(neigh,lda,data_df,tfidf,pred)"
   ]
  },
  {
   "cell_type": "code",
   "execution_count": 60,
   "metadata": {},
   "outputs": [],
   "source": [
    "#wordcount = np.array(tfidfToWords(209992,tf,tfidf_feature_names,30))\n",
    "#plotbar(wordcount,209992,\"query4.pdf\")"
   ]
  },
  {
   "cell_type": "code",
   "execution_count": null,
   "metadata": {
    "collapsed": true
   },
   "outputs": [],
   "source": []
  },
  {
   "cell_type": "markdown",
   "metadata": {
    "collapsed": true
   },
   "source": [
    "### Document 168936"
   ]
  },
  {
   "cell_type": "code",
   "execution_count": 26,
   "metadata": {},
   "outputs": [
    {
     "data": {
      "text/html": [
       "<div>\n",
       "<table border=\"1\" class=\"dataframe\">\n",
       "  <thead>\n",
       "    <tr style=\"text-align: right;\">\n",
       "      <th></th>\n",
       "      <th>id</th>\n",
       "      <th>authors</th>\n",
       "      <th>published</th>\n",
       "      <th>title</th>\n",
       "      <th>abstitle</th>\n",
       "      <th>prim_cat</th>\n",
       "    </tr>\n",
       "  </thead>\n",
       "  <tbody>\n",
       "    <tr>\n",
       "      <th>168936</th>\n",
       "      <td>1309.5119</td>\n",
       "      <td>K. A. Al-Hassanieh, Julian Rincon, E. Dagotto,...</td>\n",
       "      <td>Phys. Rev. B 88, 045107 (2013)</td>\n",
       "      <td>wave packet dynamics in the onedimensional ext...</td>\n",
       "      <td>wave packet dynamics onedimensional extended h...</td>\n",
       "      <td>str-el</td>\n",
       "    </tr>\n",
       "  </tbody>\n",
       "</table>\n",
       "</div>"
      ],
      "text/plain": [
       "               id                                            authors  \\\n",
       "168936  1309.5119  K. A. Al-Hassanieh, Julian Rincon, E. Dagotto,...   \n",
       "\n",
       "                             published  \\\n",
       "168936  Phys. Rev. B 88, 045107 (2013)   \n",
       "\n",
       "                                                    title  \\\n",
       "168936  wave packet dynamics in the onedimensional ext...   \n",
       "\n",
       "                                                 abstitle prim_cat  \n",
       "168936  wave packet dynamics onedimensional extended h...   str-el  "
      ]
     },
     "execution_count": 26,
     "metadata": {},
     "output_type": "execute_result"
    }
   ],
   "source": [
    "data_df[data_df['id']=='1309.5119']"
   ]
  },
  {
   "cell_type": "code",
   "execution_count": 88,
   "metadata": {},
   "outputs": [
    {
     "name": "stdout",
     "output_type": "stream",
     "text": [
      "168936\n",
      "id                                                   1309.5119\n",
      "authors      K. A. Al-Hassanieh, Julian Rincon, E. Dagotto,...\n",
      "published                       Phys. Rev. B 88, 045107 (2013)\n",
      "title        wave packet dynamics in the onedimensional ext...\n",
      "abstitle     wave packet dynamics onedimensional extended h...\n",
      "prim_cat                                                str-el\n",
      "Name: 168936, dtype: object\n",
      "wave packet dynamics onedimensional extended hubbard model using timedependent densitymatrix renormalization group study time evolution electronic wave packets onedimensional extended hubbard model onsite nearest neighbor repulsion u v respectively expected wave packets separate spinonly chargeonly excitations spincharge separation charge spin velocities exhibit nonmonotonic dependence v small intermediate values v velocities increase v however charge velocity exhibits stronger dependence spin leading pronounced spincharge separation charge fractionalization hand weakly affected v results explained terms luttinger liquid theory weakcoupling limit effective model strongcoupling regime\n",
      "[[5.26315789e-04 5.26315790e-04 3.10748309e-02 5.26315789e-04\n",
      "  5.26315790e-04 5.26315790e-04 6.04563235e-01 1.27087820e-01\n",
      "  5.26315789e-04 5.26315790e-04 5.26315789e-04 5.26315789e-04\n",
      "  5.26315789e-04 5.26315789e-04 2.68421053e-02 5.26315789e-04\n",
      "  2.67339027e-02 5.26315790e-04 5.26315789e-04 5.26315790e-04\n",
      "  5.26315790e-04 1.30400164e-01 5.26315789e-04 4.38242580e-02\n",
      "  5.26315790e-04]]\n",
      "25279\n",
      "id                                            cond-mat/0005395\n",
      "authors                      Yukitoshi Motome, Gabriel Kotliar\n",
      "published                        Phys. Rev. B 62, 12800 (2000)\n",
      "title        effects of boson dispersion in fermionboson co...\n",
      "abstitle     effects boson dispersion fermionboson coupled ...\n",
      "prim_cat                                                str-el\n",
      "Name: 25279, dtype: object\n",
      "effects boson dispersion fermionboson coupled systems study nonlinear feedback fermionboson system using extension dynamical meanfield theory quantum monte carlo method perturbative regimes weakcoupling atomic limits effective interaction among fermions increases width boson dispersion increases strong coupling regime away antiadiabatic limit effective interaction decreases increase width boson dispersion behavior closely related complete softening boson field elucidate parameters control nonperturbative region fluctuations dispersive bosons enhance delocalization fermions\n",
      "[[0.00060606 0.00060606 0.05110833 0.00060606 0.00060606 0.00060606\n",
      "  0.5638744  0.16266897 0.00060606 0.00060606 0.00060606 0.00060606\n",
      "  0.00060606 0.016759   0.00060606 0.00060606 0.02523555 0.00060606\n",
      "  0.00060606 0.00060606 0.00060606 0.12766835 0.00060606 0.0417763\n",
      "  0.00060606]]\n",
      "83571\n",
      "id                                            cond-mat/0701502\n",
      "authors                         Li Wang, Yajiang Hao, Shu Chen\n",
      "published                       Eur. Phys. J. D 48, 229 (2008)\n",
      "title        quantum dynamics of repulsively bound atom pai...\n",
      "abstitle     quantum dynamics repulsively bound atom pairs ...\n",
      "prim_cat                                                 other\n",
      "Name: 83571, dtype: object\n",
      "quantum dynamics repulsively bound atom pairs bosehubbard model investigate quantum dynamics repulsively bound atom pairs optical lattice described periodic bosehubbard model analytically numerically strongly repulsive limit analytically study dynamical problem perturbation method hopping terms treated perturbation finitesize system numerically solve dynamic problem whole regime interaction exact diagonalization method results show initially prepared atom pairs dynamically stable dissociation atom pairs greatly suppressed strength onsite interaction much greater tunneling amplitude ie strongly repulsive interaction induces selflocalization phenomenon atom pairs\n",
      "[[5.12820513e-04 5.12820513e-04 5.12820513e-04 5.12820513e-04\n",
      "  5.12820513e-04 5.12820513e-04 6.19741046e-01 1.48877706e-01\n",
      "  1.37116051e-02 2.47045039e-02 5.12820513e-04 5.12820513e-04\n",
      "  5.12820513e-04 5.12820513e-04 5.12820513e-04 5.12820513e-04\n",
      "  1.64695815e-02 1.33333333e-02 1.33333333e-02 5.12820513e-04\n",
      "  5.12820513e-04 1.41110942e-01 5.12820513e-04 5.12820513e-04\n",
      "  5.12820513e-04]]\n",
      "145243\n",
      "id                                                   1202.3284\n",
      "authors      Jing-Jing Wang, Wei Li, Shu Chen, Gao Xianlong...\n",
      "published                       Phys. Rev. B 86, 075110 (2012)\n",
      "title        absence of wigner molecules in onedimensional ...\n",
      "abstitle     absence wigner molecules onedimensional fewfer...\n",
      "prim_cat                                                str-el\n",
      "Name: 145243, dtype: object\n",
      "absence wigner molecules onedimensional fewfermion systems shortrange interactions study means exactdiagonalization techniques ground state fewfermion system strong shortrange repulsive interactions trapped harmonic potential one spatial dimension even groundstate density profile displays strong coupling well pronounced friedel oscillations 4kf periodicity pair correlation function show signature wignermoleculetype correlations sake comparison present also numerical results fewelectron systems coulomb interactions demonstrating ground state strong coupling contrary wigner molecule\n",
      "[[0.00061538 0.00061538 0.00061538 0.00061538 0.00061538 0.00061538\n",
      "  0.6027741  0.11538141 0.00061538 0.00061538 0.00061538 0.00061538\n",
      "  0.03138462 0.00061538 0.00061538 0.00061538 0.00061538 0.01600104\n",
      "  0.00061538 0.03291888 0.00061538 0.15512034 0.016      0.01995807\n",
      "  0.00061538]]\n",
      "183795\n",
      "id                                                   1408.0212\n",
      "authors      Aniruddha Kibey, Rupali Sonone, Bishwajyoti De...\n",
      "published                                          unpublished\n",
      "title        quantization of Î²fermipastaulam lattice with ...\n",
      "abstitle     quantization Î²fermipastaulam lattice nearest ...\n",
      "prim_cat                                                 other\n",
      "Name: 183795, dtype: object\n",
      "quantization Î²fermipastaulam lattice nearest nextnearest neighbour interactions quantize betafermipastaulam fpu model nearest nextnearest neighbour interactions using number conserving approximation numerical exact diagonalization method numerical mean field biphonon spectrum shows excellent agreement analytic mean field results ivic tsironis 2006 physica 216 200 except wave vector midpoint brillouin zone relax mean field approximation calculate eigenvalue spectrum full hamiltonian show existence multiphonon bound states analyze properties states system parameters vary calculation spatial correlation function show multiphonon bound states particle like states finite spatial correlation accordingly identify multiphonon bound states quantum equivalent breather solutions corresponding classical fpu model fourphonon spectrum system obtained properties studied generalize study extended range interaction consider quantization betafpu model nextnearestneighbour interactions analyze effect nextnearestneighbour interactions eigenvalue spectrum correlation functions system\n",
      "[[3.30578512e-04 2.55441054e-02 4.01083530e-02 3.30578512e-04\n",
      "  3.30578512e-04 3.30578512e-04 5.69184845e-01 9.49575147e-02\n",
      "  3.37361037e-02 3.30578512e-04 3.30578512e-04 3.30578512e-04\n",
      "  9.08286195e-03 3.30578512e-04 3.30578512e-04 3.30578512e-04\n",
      "  3.30578512e-04 3.30578512e-04 8.59504131e-03 3.30578512e-04\n",
      "  3.30578513e-04 1.24598371e-01 1.05400008e-02 7.86941256e-02\n",
      "  3.30578513e-04]]\n",
      "120453\n",
      "id                                                   1004.5118\n",
      "authors         Juha Javanainen, Otim Odong, Jerome C. Sanders\n",
      "published                       Phys. Rev. A 81, 043609 (2010)\n",
      "title        dimer of two bosons in a onedimensional optica...\n",
      "abstitle     dimer two bosons onedimensional optical lattic...\n",
      "prim_cat                                             quant-gas\n",
      "Name: 120453, dtype: object\n",
      "dimer two bosons onedimensional optical lattice investigate theoretically stationary states two bosons onedimensional optical lattice within bosehubbard model starting finite lattice periodic boundary conditions effect partial separation centerofmass relative motions twoatom lattice dimer lattice momentum representation carefully analyze eigenstates relative motion limit lattice becomes infinitely long find closedform analytic expressions bound state dissociated states lattice dimer outline corresponding analysis position representation results used discuss three ways detect dimer measuring momentum distribution atoms finding size molecule measurements atom number correlations two lattice sites dissociating bound state lattice dimer modulation lattice depth\n",
      "[[4.39560440e-04 3.90831875e-02 6.51181078e-02 4.39560440e-04\n",
      "  4.39560440e-04 1.21483827e-02 6.03707606e-01 1.18871032e-01\n",
      "  4.39560440e-04 4.39560440e-04 4.39560440e-04 4.39560440e-04\n",
      "  2.34654424e-02 4.39560440e-04 1.14285714e-02 4.39560440e-04\n",
      "  4.39560440e-04 4.39560440e-04 1.60321430e-02 4.39560440e-04\n",
      "  4.39560440e-04 1.03112560e-01 4.39560440e-04 4.39560440e-04\n",
      "  4.39560440e-04]]\n",
      " \n"
     ]
    }
   ],
   "source": [
    "id = 168936\n",
    "neigh = QueryLda(lda,data_df,id,6,pred,tfidf)\n",
    "printneighbors(neigh,lda,data_df,tfidf,pred)"
   ]
  },
  {
   "cell_type": "code",
   "execution_count": 89,
   "metadata": {},
   "outputs": [],
   "source": [
    "#wordcount = np.array(tfidfToWords(168936,tf,tfidf_feature_names,30))\n",
    "#plotbar(wordcount,168936,\"query5.pdf\")"
   ]
  },
  {
   "cell_type": "code",
   "execution_count": null,
   "metadata": {
    "collapsed": true
   },
   "outputs": [],
   "source": []
  }
 ],
 "metadata": {
  "kernelspec": {
   "display_name": "Python 3",
   "language": "python",
   "name": "python3"
  },
  "language_info": {
   "codemirror_mode": {
    "name": "ipython",
    "version": 3
   },
   "file_extension": ".py",
   "mimetype": "text/x-python",
   "name": "python",
   "nbconvert_exporter": "python",
   "pygments_lexer": "ipython3",
   "version": "3.6.8"
  }
 },
 "nbformat": 4,
 "nbformat_minor": 1
}
