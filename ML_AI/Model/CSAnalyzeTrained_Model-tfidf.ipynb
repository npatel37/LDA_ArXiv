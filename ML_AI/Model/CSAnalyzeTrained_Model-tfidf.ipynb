{
 "cells": [
  {
   "cell_type": "code",
   "execution_count": 1,
   "metadata": {},
   "outputs": [],
   "source": [
    "import urllib, string, os, math, cmath, re, nltk, gensim, time, sklearn, matplotlib, pickle\n",
    "import numpy as np\n",
    "import pandas as pd\n",
    "import _pickle as cPickle\n",
    "from time import time\n",
    "from sklearn.feature_extraction.text import TfidfVectorizer, CountVectorizer\n",
    "from sklearn.decomposition import LatentDirichletAllocation\n",
    "from sklearn.utils import shuffle\n",
    "import matplotlib.pyplot as plt\n",
    "%matplotlib inline\n",
    "\n",
    "from nltk.corpus import stopwords\n",
    "from nltk.corpus import stopwords\n",
    "from gensim.models import LdaModel\n",
    "from gensim import models, corpora, similarities\n",
    "from nltk.stem.porter import PorterStemmer\n",
    "from nltk.stem import WordNetLemmatizer \n",
    "from nltk import FreqDist\n",
    "from scipy.stats import entropy"
   ]
  },
  {
   "cell_type": "markdown",
   "metadata": {},
   "source": [
    "## Get the Data from ArXiv"
   ]
  },
  {
   "cell_type": "code",
   "execution_count": 2,
   "metadata": {},
   "outputs": [
    {
     "name": "stdout",
     "output_type": "stream",
     "text": [
      "duplicated entries =  24396\n",
      "duplicated entries after removal =  0\n"
     ]
    }
   ],
   "source": [
    "data_dfKeys = ['id','authors','published','title','abstitle',\"prim_cat\"]\n",
    "data_df = pd.DataFrame(columns=data_dfKeys)\n",
    "\n",
    "tmp_dict = {}\n",
    "for year in range(1993,2020):\n",
    "    filename = \"../Arxiv_DataSet/ArXivCS_\"+str(year)+\".pickle\"\n",
    "    tmp_df = pd.read_pickle(filename)\n",
    "    tmp_dict[year] = len(tmp_df)\n",
    "    #print year, len(tmp_df)\n",
    "    data_df = data_df.append(tmp_df, ignore_index=True)\n",
    "#del tmp_dict[2017]\n",
    "\n",
    "# Dropping duplicates!\n",
    "print(\"duplicated entries = \", data_df['id'].duplicated().sum())\n",
    "data_df = data_df.drop_duplicates(subset=\"id\")\n",
    "data_df = data_df.reset_index(drop=True)\n",
    "print(\"duplicated entries after removal = \", data_df['id'].duplicated().sum())"
   ]
  },
  {
   "cell_type": "code",
   "execution_count": 3,
   "metadata": {},
   "outputs": [
    {
     "name": "stdout",
     "output_type": "stream",
     "text": [
      "27 27\n"
     ]
    },
    {
     "data": {
      "image/png": "[encoded data removed]",
      "text/plain": [
       "<Figure size 864x288 with 1 Axes>"
      ]
     },
     "metadata": {
      "needs_background": "light"
     },
     "output_type": "display_data"
    }
   ],
   "source": [
    "lists = sorted(tmp_dict.items()); # sorted by key, return a list of tuples\n",
    "x, y = zip(*lists) # unpack a list of pairs into two tuples\n",
    "x = np.asarray(x).reshape(-1,1);\n",
    "y = np.asarray(y).reshape(-1,1);\n",
    "#regr = sklearn.linear_model.LinearRegression()\n",
    "print (len(x), len(y));\n",
    "#model = regr.fit(x,y)\n",
    "plt.figure(figsize=(12,4))\n",
    "plt.plot(x, y, \"-o\", lw=2,ms=10, color='blue');\n",
    "#plt.plot(x, regr.predict(x), color='blue',linewidth=3)\n",
    "plt.xlabel(\"Year\",size=24);\n",
    "plt.ylabel(\"# Doc\",size=24);\n",
    "plt.xticks(size=24);\n",
    "plt.yticks(size=24);\n",
    "plt.ylim(ymin=-100);\n",
    "plt.xlim(left=2005);\n",
    "#print('Coefficients: ', regr.coef_[0])\n",
    "#print(\"Intercept: \", regr.intercept_)"
   ]
  },
  {
   "cell_type": "code",
   "execution_count": 4,
   "metadata": {
    "scrolled": true
   },
   "outputs": [
    {
     "name": "stdout",
     "output_type": "stream",
     "text": [
      "total number of documents:  49207\n"
     ]
    },
    {
     "data": {
      "text/html": [
       "<div>\n",
       "<style scoped>\n",
       "    .dataframe tbody tr th:only-of-type {\n",
       "        vertical-align: middle;\n",
       "    }\n",
       "\n",
       "    .dataframe tbody tr th {\n",
       "        vertical-align: top;\n",
       "    }\n",
       "\n",
       "    .dataframe thead th {\n",
       "        text-align: right;\n",
       "    }\n",
       "</style>\n",
       "<table border=\"1\" class=\"dataframe\">\n",
       "  <thead>\n",
       "    <tr style=\"text-align: right;\">\n",
       "      <th></th>\n",
       "      <th>id</th>\n",
       "      <th>authors</th>\n",
       "      <th>published</th>\n",
       "      <th>title</th>\n",
       "      <th>abstitle</th>\n",
       "      <th>prim_cat</th>\n",
       "    </tr>\n",
       "  </thead>\n",
       "  <tbody>\n",
       "    <tr>\n",
       "      <td>1333</td>\n",
       "      <td>0704.0047</td>\n",
       "      <td>T. Kosel, I. Grabec</td>\n",
       "      <td>unpublished</td>\n",
       "      <td>intelligent location of simultaneously active ...</td>\n",
       "      <td>intelligent location simultaneously active aco...</td>\n",
       "      <td>cs.NE</td>\n",
       "    </tr>\n",
       "    <tr>\n",
       "      <td>1334</td>\n",
       "      <td>0704.0050</td>\n",
       "      <td>T. Kosel, I. Grabec</td>\n",
       "      <td>unpublished</td>\n",
       "      <td>intelligent location of simultaneously active ...</td>\n",
       "      <td>intelligent location simultaneously active aco...</td>\n",
       "      <td>cs.NE</td>\n",
       "    </tr>\n",
       "    <tr>\n",
       "      <td>1343</td>\n",
       "      <td>0704.0304</td>\n",
       "      <td>Carlos Gershenson</td>\n",
       "      <td>Minai, A., Braha, D., and Bar-Yam, Y., eds. Un...</td>\n",
       "      <td>the world as evolving information</td>\n",
       "      <td>world evolving information paper discusses ben...</td>\n",
       "      <td>cs.IT</td>\n",
       "    </tr>\n",
       "    <tr>\n",
       "      <td>1324</td>\n",
       "      <td>0704.0671</td>\n",
       "      <td>Maxim Raginsky</td>\n",
       "      <td>DOI:10.1109/ITW.2007.4313111</td>\n",
       "      <td>learning from compressed observations</td>\n",
       "      <td>learning compressed observations problem stati...</td>\n",
       "      <td>cs.IT</td>\n",
       "    </tr>\n",
       "    <tr>\n",
       "      <td>1325</td>\n",
       "      <td>0704.0954</td>\n",
       "      <td>Soummya Kar, Jose M. F. Moura</td>\n",
       "      <td>DOI:10.1109/TSP.2008.920143</td>\n",
       "      <td>sensor networks with random links topology des...</td>\n",
       "      <td>sensor networks random links topology design d...</td>\n",
       "      <td>cs.IT</td>\n",
       "    </tr>\n",
       "  </tbody>\n",
       "</table>\n",
       "</div>"
      ],
      "text/plain": [
       "             id                        authors  \\\n",
       "1333  0704.0047            T. Kosel, I. Grabec   \n",
       "1334  0704.0050            T. Kosel, I. Grabec   \n",
       "1343  0704.0304              Carlos Gershenson   \n",
       "1324  0704.0671                 Maxim Raginsky   \n",
       "1325  0704.0954  Soummya Kar, Jose M. F. Moura   \n",
       "\n",
       "                                              published  \\\n",
       "1333                                        unpublished   \n",
       "1334                                        unpublished   \n",
       "1343  Minai, A., Braha, D., and Bar-Yam, Y., eds. Un...   \n",
       "1324                       DOI:10.1109/ITW.2007.4313111   \n",
       "1325                        DOI:10.1109/TSP.2008.920143   \n",
       "\n",
       "                                                  title  \\\n",
       "1333  intelligent location of simultaneously active ...   \n",
       "1334  intelligent location of simultaneously active ...   \n",
       "1343                  the world as evolving information   \n",
       "1324              learning from compressed observations   \n",
       "1325  sensor networks with random links topology des...   \n",
       "\n",
       "                                               abstitle prim_cat  \n",
       "1333  intelligent location simultaneously active aco...    cs.NE  \n",
       "1334  intelligent location simultaneously active aco...    cs.NE  \n",
       "1343  world evolving information paper discusses ben...    cs.IT  \n",
       "1324  learning compressed observations problem stati...    cs.IT  \n",
       "1325  sensor networks random links topology design d...    cs.IT  "
      ]
     },
     "execution_count": 4,
     "metadata": {},
     "output_type": "execute_result"
    }
   ],
   "source": [
    "print(\"total number of documents: \", len(data_df))\n",
    "data_df.sort_values(by=\"id\").head()"
   ]
  },
  {
   "cell_type": "code",
   "execution_count": 5,
   "metadata": {},
   "outputs": [],
   "source": [
    "def fix_cat(in_cat): \n",
    "    if(in_cat==\"cond-mat.stat-mech\"):\n",
    "        return \"stat-mech\"\n",
    "    if(in_cat==\"cond-mat.supr-con\"):\n",
    "        return \"supr-con\"\n",
    "    if(in_cat==\"cond-mat.dis-nn\"):\n",
    "        return \"dis-nn\"\n",
    "    if(in_cat==\"cond-mat.mes-hall\"):\n",
    "        return \"mes-hall\"\n",
    "    if(in_cat==\"cond-mat.str-el\"):\n",
    "        return \"str-el\"\n",
    "    if(in_cat==\"cond-mat.mtrl-sci\"):\n",
    "        return \"mtrl-sci\"\n",
    "    if(in_cat==\"cond-mat.soft\"):\n",
    "        return \"soft\"\n",
    "    if(in_cat==\"cond-mat.quant-gas\"):\n",
    "        return \"quant-gas\"\n",
    "    if(in_cat==\"cond-mat.other\"):\n",
    "        return \"other\"\n",
    "    if(in_cat==\"cond-mat\"):\n",
    "        return \"other\"\n",
    "    return in_cat; \n",
    "    \n",
    "data_df[\"prim_cat\"] = data_df[\"prim_cat\"].apply(fix_cat); "
   ]
  },
  {
   "cell_type": "code",
   "execution_count": 6,
   "metadata": {},
   "outputs": [],
   "source": [
    "def length_of(input_val): \n",
    "    return len(input_val);\n",
    "\n",
    "data_df[\"word_count\"] = data_df[\"abstitle\"].apply(length_of);\n",
    "data_df[\"title_count\"] = data_df[\"title\"].apply(length_of);"
   ]
  },
  {
   "cell_type": "code",
   "execution_count": 7,
   "metadata": {},
   "outputs": [
    {
     "name": "stderr",
     "output_type": "stream",
     "text": [
      "[nltk_data] Downloading package punkt to /home/npatel/nltk_data...\n",
      "[nltk_data]   Package punkt is already up-to-date!\n",
      "[nltk_data] Downloading package wordnet to /home/npatel/nltk_data...\n",
      "[nltk_data]   Package wordnet is already up-to-date!\n"
     ]
    }
   ],
   "source": [
    "nltk.download('punkt')\n",
    "nltk.download('wordnet')\n",
    "def initial_clean(text):\n",
    "    \"\"\"\n",
    "    Function to clean text of websites, email addresess and any punctuation\n",
    "    We also lower case the text\n",
    "    \"\"\"\n",
    "    text = re.sub(\"((\\S+)?(http(s)?)(\\S+))|((\\S+)?(www)(\\S+))|((\\S+)?(\\@)(\\S+)?)\", \" \", text)\n",
    "    text = re.sub(\"[^a-zA-Z ]\", \"\", text)\n",
    "    text = text.lower() # lower case the text\n",
    "    text = text.replace(\"model \",\"\");\n",
    "    text = text.replace(\"predict \",\"\");\n",
    "    text = text.replace(\"algorithm \",\"\");\n",
    "    text = text.replace(\"learn \",\"\");\n",
    "    \n",
    "    #text = text.split(\",\")\n",
    "    text = nltk.word_tokenize(text)\n",
    "    return text\n",
    "\n",
    "stop_words = stopwords.words('english')\n",
    "def remove_stop_words(text):\n",
    "    \"\"\"\n",
    "    Function that removes all stopwords from text\n",
    "    \"\"\"\n",
    "    return [word for word in text if word not in stop_words]\n",
    "\n",
    "lemmatizer = WordNetLemmatizer() \n",
    "stemmer = PorterStemmer()\n",
    "def stem_words(text):\n",
    "    \"\"\"\n",
    "    Function to stem/lemmatize words, so plural and singular are treated the same\n",
    "    \"\"\"\n",
    "    try:\n",
    "        text = [stemmer.stem(word) for word in text]\n",
    "        text = [lemmatizer.lemmatize(word) for word in text]\n",
    "        text = [word for word in text if len(word) > 1] # make sure we have no 1 letter words\n",
    "    except IndexError: # the word \"oed\" broke this, so needed try except\n",
    "        pass\n",
    "    return text\n",
    "\n",
    "def apply_all(text):\n",
    "    \"\"\"\n",
    "    This function applies all the functions above into one\n",
    "    \"\"\"\n",
    "    #text = text.encode(\"utf8\")\n",
    "    #intext = \", \".join([x for x in text])\n",
    "    #print(intext); \n",
    "    \n",
    "    words = stem_words(remove_stop_words(initial_clean(text)))\n",
    "    outtext = \" \".join([x for x in words])\n",
    "    return outtext"
   ]
  },
  {
   "cell_type": "code",
   "execution_count": 8,
   "metadata": {},
   "outputs": [],
   "source": [
    "## -- with steming the words --\n",
    "#data_df[\"cleaned_abstitle\"] = data_df[\"abstitle\"].apply(apply_all)\n",
    "#data_df.to_csv(\"cleaned_data.csv\")\n",
    "data_df = pd.read_csv(\"cleaned_data.csv\")\n",
    "\n",
    "## -- with lemmatization --\n",
    "#data_df[\"cleaned_abstitle\"] = data_df[\"abstitle\"].apply(apply_all)\n",
    "#data_df.to_csv(\"cleaned_data_lemmatization.csv\")\n",
    "#data_df = pd.read_csv(\"cleaned_data_lemmatization.csv\")"
   ]
  },
  {
   "cell_type": "code",
   "execution_count": 9,
   "metadata": {},
   "outputs": [
    {
     "name": "stdout",
     "output_type": "stream",
     "text": [
      "marketoriented programming environment application distributed multicommodity flow problems market price systems constitute wellunderstood class mechanisms certain conditions provide effective decentralization decision making minimal communication overhead marketoriented programming approach distributed problem solving derive activities resource allocations set computational agents computing competitive equilibrium artificial economy walras provides basic constructs defining computational market structures protocols deriving corresponding price equilibria particular realization approach form multicommodity flow problem see careful construction decision process according economic principles lead efficient distributed resource allocation behavior system meaningfully analyzed economic terms  \n",
      "\n",
      "marketori program environ applic distribut multicommod flow problem market price system constitut wellunderstood class mechan certain condit provid effect decentr decis make minim commun overhead marketori program approach distribut problem solv deriv activ resourc alloc set comput agent comput competit equilibrium artifici economi walra provid basic construct defin comput market structur protocol deriv correspond price equilibrium particular realiz approach form multicommod flow problem see care construct decis process accord econom principl lead effici distribut resourc alloc behavior system meaning analyz econom term\n"
     ]
    }
   ],
   "source": [
    "print(data_df.iloc[1][\"abstitle\"], \" \\n\")\n",
    "print(data_df.iloc[1][\"cleaned_abstitle\"])"
   ]
  },
  {
   "cell_type": "code",
   "execution_count": 10,
   "metadata": {},
   "outputs": [
    {
     "name": "stdout",
     "output_type": "stream",
     "text": [
      "Number of categories on ArXiv:  40\n",
      "Categories on ArXiv:  ['cs.AI' 'cs.CC' 'cs.NE' 'cs.LG' 'cs.CL' 'cs.LO' 'cs.MA' 'cs.IR' 'cs.CG'\n",
      " 'cs.RO' 'cs.DB' 'cs.DL' 'cs.SE' 'cs.DS' 'cs.CV' 'cs.PL' 'cs.DC' 'cs.CE'\n",
      " 'cs.PF' 'cs.DM' 'cs.NI' 'cs.GT' 'cs.HC' 'cs.CR' 'cs.SD' 'cs.OH' 'cs.CY'\n",
      " 'cs.MM' 'cs.IT' 'cs.MS' 'cs.AR' 'cs.NA' 'cs.GR' 'cs.SC' 'cs.SY' 'cs.SI'\n",
      " 'cs.FL' 'cs.ET' 'cs.GL' 'cs.OS']\n"
     ]
    }
   ],
   "source": [
    "print(\"Number of categories on ArXiv: \", len(data_df[\"prim_cat\"].unique()))\n",
    "print(\"Categories on ArXiv: \", data_df[\"prim_cat\"].unique())"
   ]
  },
  {
   "cell_type": "code",
   "execution_count": 11,
   "metadata": {},
   "outputs": [
    {
     "data": {
      "text/plain": [
       "<matplotlib.axes._subplots.AxesSubplot at 0x7fa7d29097f0>"
      ]
     },
     "execution_count": 11,
     "metadata": {},
     "output_type": "execute_result"
    },
    {
     "data": {
      "image/png": "[encoded data removed]",
      "text/plain": [
       "<Figure size 720x432 with 1 Axes>"
      ]
     },
     "metadata": {
      "needs_background": "light"
     },
     "output_type": "display_data"
    }
   ],
   "source": [
    "plt.figure(figsize=(10,6))\n",
    "cat_count = pd.Series.value_counts(data_df['prim_cat'])\n",
    "cat_count.plot.bar(title=\"# Documents / category\")"
   ]
  },
  {
   "cell_type": "code",
   "execution_count": 12,
   "metadata": {
    "scrolled": false
   },
   "outputs": [
    {
     "data": {
      "image/png": "[encoded data removed]",
      "text/plain": [
       "<Figure size 720x432 with 1 Axes>"
      ]
     },
     "metadata": {
      "needs_background": "light"
     },
     "output_type": "display_data"
    }
   ],
   "source": [
    "plt.figure(figsize=(10,6))\n",
    "plt.hist(data_df[\"word_count\"],bins=60);\n",
    "#plt.hist(data_df[\"title_count\"],bins=60);\n",
    "plt.xlim(right=2000);\n",
    "plt.xlabel(\"word count of abstract + title\",size=18);\n",
    "plt.xticks(size=18); \n",
    "plt.yticks(size=18); "
   ]
  },
  {
   "cell_type": "code",
   "execution_count": 13,
   "metadata": {},
   "outputs": [
    {
     "data": {
      "image/png": "[encoded data removed]",
      "text/plain": [
       "<Figure size 1080x432 with 1 Axes>"
      ]
     },
     "metadata": {
      "needs_background": "light"
     },
     "output_type": "display_data"
    }
   ],
   "source": [
    "data_df.boxplot(column=['word_count'], by=['prim_cat'],figsize=(15,6));\n",
    "plt.xticks(rotation=90);\n",
    "plt.ylim(top=2000);\n",
    "plt.xticks(size=18); \n",
    "plt.yticks(size=18); \n",
    "plt.xlabel(\"primary category\",size=18); \n",
    "plt.ylabel(\"word count abstract+title\",size=18);\n",
    "plt.title(\" \");\n"
   ]
  },
  {
   "cell_type": "code",
   "execution_count": 14,
   "metadata": {},
   "outputs": [
    {
     "data": {
      "text/plain": [
       "49207"
      ]
     },
     "execution_count": 14,
     "metadata": {},
     "output_type": "execute_result"
    }
   ],
   "source": [
    "len(data_df)"
   ]
  },
  {
   "cell_type": "code",
   "execution_count": null,
   "metadata": {},
   "outputs": [],
   "source": []
  },
  {
   "cell_type": "markdown",
   "metadata": {},
   "source": [
    "<h2> Preparing Data for LDA </h2>"
   ]
  },
  {
   "cell_type": "code",
   "execution_count": 18,
   "metadata": {},
   "outputs": [],
   "source": [
    "text_data = []\n",
    "for line in data_df[\"cleaned_abstitle\"]:\n",
    "    tokens = line.split(\" \");\n",
    "    text_data.append(tokens)"
   ]
  },
  {
   "cell_type": "code",
   "execution_count": 19,
   "metadata": {},
   "outputs": [],
   "source": [
    "# creating dictionary of all unique words, and copus - bag of word for each document\n",
    "from gensim import corpora\n",
    "from gensim.models import TfidfModel\n",
    "from gensim.corpora import Dictionary\n",
    "\n",
    "# tf vectorize\n",
    "dictionary = corpora.Dictionary(text_data)\n",
    "tf_corpus = [dictionary.doc2bow(text) for text in text_data]\n",
    "\n",
    "# tfidf - vectorize \n",
    "tfidf_model = TfidfModel(tf_corpus)  # fit model\n",
    "tfidf_corpus = tfidf_model[tf_corpus]      # apply model to the first corpus document"
   ]
  },
  {
   "cell_type": "code",
   "execution_count": 20,
   "metadata": {
    "scrolled": false
   },
   "outputs": [
    {
     "name": "stdout",
     "output_type": "stream",
     "text": [
      "marketori program environ applic distribut multicommod flow problem market price system constitut wellunderstood class mechan certain condit provid effect decentr decis make minim commun overhead marketori program approach distribut problem solv deriv activ resourc alloc set comput agent comput competit equilibrium artifici economi walra provid basic construct defin comput market structur protocol deriv correspond price equilibrium particular realiz approach form multicommod flow problem see care construct decis process accord econom principl lead effici distribut resourc alloc behavior system meaning analyz econom term\n",
      "(0, 2) (0, 0.04510719203517905) approach\n",
      "(15, 1) (15, 0.09017882916903075) meaning\n",
      "(24, 3) (24, 0.06466384000998082) problem\n",
      "(26, 2) (26, 0.062043402225808834) provid\n",
      "(31, 1) (31, 0.04818399509917718) solv\n",
      "(41, 1) (41, 0.07875281625448342) accord\n",
      "(42, 1) (42, 0.06033586659880772) activ\n",
      "(43, 1) (43, 0.05788679518237641) agent\n",
      "(44, 2) (44, 0.19066585921268325) alloc\n",
      "(45, 1) (45, 0.05791199043587599) analyz\n",
      "(46, 1) (46, 0.034286421969920655) applic\n",
      "(47, 1) (47, 0.06507649828964869) artifici\n",
      "(48, 1) (48, 0.08056215826206659) basic\n",
      "(49, 1) (49, 0.06111008100347086) behavior\n",
      "(50, 1) (50, 0.08511731553493036) care\n",
      "(51, 1) (51, 0.07043651919598357) certain\n",
      "(52, 1) (52, 0.05086871770653896) class\n",
      "(53, 1) (53, 0.061769407608737885) commun\n",
      "(54, 1) (54, 0.06843846675889022) competit\n",
      "(55, 3) (55, 0.09345770984230516) comput\n",
      "(56, 1) (56, 0.05246849111540824) condit\n",
      "(57, 1) (57, 0.10760461104220384) constitut\n",
      "(58, 2) (58, 0.11746799115226961) construct\n",
      "(59, 1) (59, 0.06353906921040171) correspond\n",
      "(60, 1) (60, 0.10953107512834473) decentr\n",
      "(61, 2) (61, 0.10706020324379878) decis\n",
      "(62, 1) (62, 0.0582742203847216) defin\n",
      "(63, 2) (63, 0.11742874230458195) deriv\n",
      "(64, 3) (64, 0.1275377738401657) distribut\n",
      "(65, 2) (65, 0.21683723373694552) econom\n",
      "(66, 1) (66, 0.14303057283200676) economi\n",
      "(67, 1) (67, 0.036011192709244334) effect\n",
      "(68, 1) (68, 0.03627144475700683) effici\n",
      "(69, 1) (69, 0.05656772463836367) environ\n",
      "(70, 2) (70, 0.20913699698335186) equilibrium\n",
      "(71, 2) (71, 0.17825225461087768) flow\n",
      "(72, 1) (72, 0.05808282365650441) form\n",
      "(73, 1) (73, 0.05556024369687815) lead\n",
      "(74, 1) (74, 0.042718934664730146) make\n",
      "(75, 2) (75, 0.20352436944322141) market\n",
      "(76, 2) (76, 0.4412100437566721) marketori\n",
      "(77, 1) (77, 0.06199621928839883) mechan\n",
      "(78, 1) (78, 0.058319122240857287) minim\n",
      "(79, 2) (79, 0.4109623663366287) multicommod\n",
      "(80, 1) (80, 0.1030203963841639) overhead\n",
      "(81, 1) (81, 0.05302052481560609) particular\n",
      "(82, 2) (82, 0.21223949319957092) price\n",
      "(83, 1) (83, 0.07359761549398022) principl\n",
      "(84, 1) (84, 0.036972166893212484) process\n",
      "(85, 2) (85, 0.12457388147755272) program\n",
      "(86, 1) (86, 0.1023822223613405) protocol\n",
      "(87, 1) (87, 0.09407411411401058) realiz\n",
      "(88, 2) (88, 0.14869515309321032) resourc\n",
      "(89, 1) (89, 0.1022375649003838) see\n",
      "(90, 1) (90, 0.028355820834638973) set\n",
      "(91, 1) (91, 0.041076626750964455) structur\n",
      "(92, 2) (92, 0.06600344453168928) system\n",
      "(93, 1) (93, 0.05066431131521076) term\n",
      "(94, 1) (94, 0.2357288605883578) walra\n",
      "(95, 1) (95, 0.15126278852593145) wellunderstood\n"
     ]
    }
   ],
   "source": [
    "print(data_df.iloc[1][\"cleaned_abstitle\"])\n",
    "for i in range(0,len(tf_corpus[1])): \n",
    "    word_index = tf_corpus[1][i][0]\n",
    "    print(tf_corpus[1][i], tfidf_corpus[1][i], dictionary[word_index])"
   ]
  },
  {
   "cell_type": "code",
   "execution_count": 21,
   "metadata": {},
   "outputs": [],
   "source": [
    "# printing corpus and dictionary to a file\n",
    "pickle.dump(tf_corpus, open('corpus.pkl', 'wb'))\n",
    "pickle.dump(tfidf_corpus,open(\"tfidf_corpus.pkl\",\"wb\"))\n",
    "pickle.dump(tfidf_model,open(\"tfidfmodel.pkl\",\"wb\"))\n",
    "\n",
    "#dictionary.save('dictionary.gensim')\n",
    "pickle.dump(dictionary,open(\"dictionary.pkl\",\"wb\"))"
   ]
  },
  {
   "cell_type": "code",
   "execution_count": 22,
   "metadata": {},
   "outputs": [],
   "source": [
    "tf_corpus = pickle.load(open(\"corpus.pkl\",\"rb\"))\n",
    "tfidf_corpus = pickle.load(open(\"tfidf_corpus.pkl\",\"rb\"))\n",
    "tfidf_model = pickle.load(open(\"tfidfmodel.pkl\",\"rb\"))\n",
    "dictionary = pickle.load(open(\"dictionary.pkl\",\"rb\"))"
   ]
  },
  {
   "cell_type": "code",
   "execution_count": 23,
   "metadata": {},
   "outputs": [
    {
     "name": "stdout",
     "output_type": "stream",
     "text": [
      "Dictionary(80397 unique tokens: ['approach', 'avoid', 'backtrack', 'complet', 'control']...)\n"
     ]
    }
   ],
   "source": [
    "print(dictionary)"
   ]
  },
  {
   "cell_type": "code",
   "execution_count": null,
   "metadata": {},
   "outputs": [],
   "source": []
  },
  {
   "cell_type": "markdown",
   "metadata": {},
   "source": [
    "# Finding the correct number of topics"
   ]
  },
  {
   "cell_type": "markdown",
   "metadata": {},
   "source": [
    "<span>\n",
    "    Separate calculations of coherence score using 1000 subset of documents show that coherence score is maximum for approximate topic of 10. Therefore, we shall use 10 topics as the optimal number topics for interpratibility of the topic distribution of each document. \n",
    "</span>"
   ]
  },
  {
   "cell_type": "markdown",
   "metadata": {},
   "source": [
    "<h1> LDA modeling </h1>"
   ]
  },
  {
   "cell_type": "markdown",
   "metadata": {},
   "source": [
    "Documentation: \n",
    "https://radimrehurek.com/gensim/models/ldamodel.html <br>\n",
    "class gensim.models.ldamodel.LdaModel(corpus=None, num_topics=100, id2word=None, \n",
    "                                      distributed=False, chunksize=2000, passes=1, \n",
    "                                      update_every=1, alpha='symmetric', eta=None, \n",
    "                                      decay=0.5, offset=1.0, eval_every=10, iterations=50, \n",
    "                                      gamma_threshold=0.001, minimum_probability=0.01, \n",
    "                                      random_state=None, ns_conf=None, minimum_phi_value=0.01, \n",
    "                                      per_word_topics=False, callbacks=None, \n",
    "                                      dtype=<class 'numpy.float32'>)\n"
   ]
  },
  {
   "cell_type": "code",
   "execution_count": 25,
   "metadata": {},
   "outputs": [
    {
     "name": "stdout",
     "output_type": "stream",
     "text": [
      "done in 1156.243s.\n"
     ]
    }
   ],
   "source": [
    "import gensim\n",
    "\n",
    "# number of expected topics\n",
    "NUM_TOPICS = 10\n",
    "\n",
    "# training model \n",
    "t0 = time()\n",
    "ldamodel = gensim.models.ldamulticore.LdaMulticore(\n",
    "    tfidf_corpus, num_topics = NUM_TOPICS, chunksize=10000, \n",
    "    id2word=dictionary, iterations=1000, passes=40, \n",
    "    workers=4) \n",
    "print(\"done in %0.3fs.\" % (time() - t0))"
   ]
  },
  {
   "cell_type": "code",
   "execution_count": 26,
   "metadata": {},
   "outputs": [],
   "source": [
    "# save the model d\n",
    "ldamodel.save('tfidf_model10.gensim')"
   ]
  },
  {
   "cell_type": "code",
   "execution_count": 27,
   "metadata": {},
   "outputs": [
    {
     "name": "stdout",
     "output_type": "stream",
     "text": [
      "(0, '0.001*\"traffick\" + 0.001*\"maxent\" + 0.001*\"suicid\" + 0.000*\"angri\" + 0.000*\"esport\" + 0.000*\"veget\"')\n",
      "(1, '0.001*\"outfit\" + 0.001*\"poem\" + 0.001*\"poetri\" + 0.001*\"timet\" + 0.001*\"uap\" + 0.001*\"vin\"')\n",
      "(2, '0.004*\"network\" + 0.004*\"graph\" + 0.003*\"optim\" + 0.003*\"function\" + 0.003*\"method\" + 0.003*\"learn\"')\n",
      "(3, '0.012*\"polici\" + 0.009*\"reward\" + 0.007*\"reinforc\" + 0.007*\"bandit\" + 0.005*\"regret\" + 0.005*\"rl\"')\n",
      "(4, '0.002*\"keyphras\" + 0.001*\"warmup\" + 0.001*\"sonar\" + 0.000*\"ndf\" + 0.000*\"dialect\" + 0.000*\"plda\"')\n",
      "(5, '0.002*\"na\" + 0.001*\"fl\" + 0.001*\"communicationeffici\" + 0.001*\"ldp\" + 0.001*\"gossip\" + 0.001*\"fedavg\"')\n",
      "(6, '0.004*\"imag\" + 0.003*\"adversari\" + 0.003*\"model\" + 0.003*\"task\" + 0.003*\"languag\" + 0.003*\"train\"')\n",
      "(7, '0.001*\"mooc\" + 0.001*\"kw\" + 0.001*\"listwis\" + 0.001*\"flock\" + 0.000*\"mmc\" + 0.000*\"subnet\"')\n",
      "(8, '0.001*\"confer\" + 0.001*\"proceed\" + 0.000*\"steganalysi\" + 0.000*\"tnn\" + 0.000*\"sac\" + 0.000*\"multifidel\"')\n",
      "(9, '0.004*\"agent\" + 0.004*\"robot\" + 0.004*\"system\" + 0.003*\"learn\" + 0.003*\"environ\" + 0.003*\"plan\"')\n"
     ]
    }
   ],
   "source": [
    "# save the model d\n",
    "ldamodel = LdaModel.load('tfidf_model10.gensim')\n",
    "\n",
    "topics = ldamodel.print_topics(num_words=6)\n",
    "for topic in topics:\n",
    "    print(topic)"
   ]
  },
  {
   "cell_type": "code",
   "execution_count": null,
   "metadata": {
    "scrolled": true
   },
   "outputs": [],
   "source": []
  },
  {
   "cell_type": "code",
   "execution_count": null,
   "metadata": {},
   "outputs": [],
   "source": []
  },
  {
   "cell_type": "code",
   "execution_count": null,
   "metadata": {},
   "outputs": [],
   "source": []
  },
  {
   "cell_type": "code",
   "execution_count": 35,
   "metadata": {},
   "outputs": [],
   "source": [
    "#https://stackoverflow.com/questions/19504898/use-scikit-learn-tfidf-with-gensim-lda\n",
    "#https://stackoverflow.com/questions/21552518/using-scikit-learn-vectorizers-and-vocabularies-with-gensim\n",
    "#lda = gensim.models.ldamodel.LdaModel(corpus=tfidf, id2word=id2word, num_topics=100, update_every=1, passes=1)\n",
    "\n",
    "## model evaluation\n",
    "# https://github.com/RaRe-Technologies/gensim/blob/develop/docs/notebooks/topic_coherence_tutorial.ipynb"
   ]
  },
  {
   "cell_type": "code",
   "execution_count": null,
   "metadata": {},
   "outputs": [],
   "source": []
  },
  {
   "cell_type": "markdown",
   "metadata": {},
   "source": [
    "# Finding the correct number of topics"
   ]
  },
  {
   "cell_type": "code",
   "execution_count": 39,
   "metadata": {},
   "outputs": [],
   "source": [
    "cutsize=1000\n",
    "cutdata_df = data_df.sample(n=cutsize)\n",
    "text_data = []\n",
    "for line in cutdata_df[\"cleaned_abstitle\"]:\n",
    "    tokens = line.split(\" \");\n",
    "    text_data.append(tokens)\n",
    "\n",
    "# creating dictionary of all unique words, and copus - bag of word for each document\n",
    "from gensim import corpora\n",
    "cut_dictionary = corpora.Dictionary(text_data)\n",
    "cut_corpus = [dictionary.doc2bow(text) for text in text_data]"
   ]
  },
  {
   "cell_type": "code",
   "execution_count": 70,
   "metadata": {},
   "outputs": [
    {
     "name": "stdout",
     "output_type": "stream",
     "text": [
      "2 -8.036908954077802\n",
      "4 -8.01535995802318\n",
      "6 -7.884395625329391\n",
      "8 -7.804085350195517\n",
      "10 -7.848754734890653\n",
      "12 -7.780371237401774\n",
      "14 -7.793405657529297\n",
      "16 -7.8522775750534075\n",
      "18 -7.8026460118314915\n",
      "20 -7.777303494983238\n",
      "22 -7.747758726830106\n",
      "24 -7.814021142125278\n",
      "26 -7.8034478237572555\n",
      "28 -7.764704966640374\n",
      "30 -7.7004610198952435\n",
      "32 -7.755723834079475\n",
      "34 -7.848463209125364\n",
      "36 -7.863581608961403\n",
      "38 -7.84408934136948\n",
      "40 -7.817520433330082\n",
      "42 -7.759415730110067\n",
      "44 -7.865731751477404\n",
      "46 -7.8654898446872235\n",
      "48 -7.797942234460061\n"
     ]
    }
   ],
   "source": [
    "# LDA model with gibbs sampling\n",
    "out = []\n",
    "for num_topics in range(2,50,2): \n",
    "    \n",
    "    # training model \n",
    "    ldamodel = gensim.models.ldamulticore.LdaMulticore(\n",
    "        cut_corpus, num_topics = num_topics, chunksize=cutsize, \n",
    "        id2word=dictionary, iterations=1000, passes=40, \n",
    "        workers=4);\n",
    "\n",
    "    perplexity = ldamodel.log_perplexity(cut_corpus)\n",
    "    print(num_topics,perplexity)\n",
    "    out.append([num_topics,perplexity]);"
   ]
  },
  {
   "cell_type": "code",
   "execution_count": null,
   "metadata": {},
   "outputs": [],
   "source": []
  },
  {
   "cell_type": "code",
   "execution_count": 74,
   "metadata": {},
   "outputs": [
    {
     "data": {
      "text/plain": [
       "[<matplotlib.lines.Line2D at 0x7fb7e8e49550>]"
      ]
     },
     "execution_count": 74,
     "metadata": {},
     "output_type": "execute_result"
    },
    {
     "data": {
      "image/png": "[encoded data removed]",
      "text/plain": [
       "<Figure size 432x288 with 1 Axes>"
      ]
     },
     "metadata": {
      "needs_background": "light"
     },
     "output_type": "display_data"
    }
   ],
   "source": [
    "out1000 = np.asarray(out)\n",
    "#plt.plot(out100[:,0],out100[:,1],\"o-\")\n",
    "plt.plot(out1000[:,0],out1000[:,1],\"o-\")"
   ]
  },
  {
   "cell_type": "code",
   "execution_count": 75,
   "metadata": {},
   "outputs": [
    {
     "name": "stdout",
     "output_type": "stream",
     "text": [
      "2.0 -9.311076716183683 -8.036908954077802\n",
      "4.0 -9.391854136873011 -8.01535995802318\n",
      "6.0 -9.090104465471317 -7.884395625329391\n",
      "8.0 -9.12625694768496 -7.804085350195517\n",
      "10.0 -8.952424275992946 -7.848754734890653\n",
      "12.0 -8.996909146978226 -7.780371237401774\n",
      "14.0 -8.954099763146862 -7.793405657529297\n",
      "16.0 -9.111896277518364 -7.8522775750534075\n",
      "18.0 -8.93384057355165 -7.8026460118314915\n",
      "20.0 -8.952660110311623 -7.777303494983238\n",
      "22.0 -8.863691498985633 -7.747758726830106\n",
      "24.0 -9.108388144543326 -7.814021142125278\n",
      "26.0 -9.107662955239217 -7.8034478237572555\n",
      "28.0 -9.566421909743486 -7.764704966640374\n",
      "30.0 -8.769101842671937 -7.7004610198952435\n",
      "32.0 -9.224072042242941 -7.755723834079475\n",
      "34.0 -8.944106487803797 -7.848463209125364\n",
      "36.0 -8.750992349656 -7.863581608961403\n",
      "38.0 -9.045241281769428 -7.84408934136948\n",
      "40.0 -8.798865255198866 -7.817520433330082\n",
      "42.0 -8.934705873252641 -7.759415730110067\n",
      "44.0 -8.99343749940302 -7.865731751477404\n",
      "46.0 -8.96274406819392 -7.8654898446872235\n",
      "48.0 -9.00508037928314 -7.797942234460061\n"
     ]
    }
   ],
   "source": [
    "for i in range(len(out100)):\n",
    "    print(out100[i,0],out100[i,1],out1000[i,1]);"
   ]
  },
  {
   "cell_type": "code",
   "execution_count": 71,
   "metadata": {},
   "outputs": [
    {
     "name": "stdout",
     "output_type": "stream",
     "text": [
      "[[ 2.         -9.31107672]\n",
      " [ 4.         -9.39185414]\n",
      " [ 6.         -9.09010447]\n",
      " [ 8.         -9.12625695]\n",
      " [10.         -8.95242428]\n",
      " [12.         -8.99690915]\n",
      " [14.         -8.95409976]\n",
      " [16.         -9.11189628]\n",
      " [18.         -8.93384057]\n",
      " [20.         -8.95266011]\n",
      " [22.         -8.8636915 ]\n",
      " [24.         -9.10838814]\n",
      " [26.         -9.10766296]\n",
      " [28.         -9.56642191]\n",
      " [30.         -8.76910184]\n",
      " [32.         -9.22407204]\n",
      " [34.         -8.94410649]\n",
      " [36.         -8.75099235]\n",
      " [38.         -9.04524128]\n",
      " [40.         -8.79886526]\n",
      " [42.         -8.93470587]\n",
      " [44.         -8.9934375 ]\n",
      " [46.         -8.96274407]\n",
      " [48.         -9.00508038]]\n"
     ]
    }
   ],
   "source": [
    "print(out100)"
   ]
  },
  {
   "cell_type": "code",
   "execution_count": null,
   "metadata": {},
   "outputs": [],
   "source": []
  },
  {
   "cell_type": "code",
   "execution_count": 41,
   "metadata": {},
   "outputs": [],
   "source": [
    "data_df = pd.read_csv(\"cleaned_data.csv\")"
   ]
  },
  {
   "cell_type": "code",
   "execution_count": 42,
   "metadata": {},
   "outputs": [],
   "source": [
    "def clean_text_model(x):\n",
    "    x = x.replace(\"model \",\"\");\n",
    "    x = x.replace(\"predict \",\"\");\n",
    "    x = x.replace(\"algorithm \",\"\");\n",
    "    x = x.replace(\"learn \",\"\");\n",
    "    return x; \n",
    "    \n",
    "data_df[\"cleaned_abstitle\"] = data_df[\"cleaned_abstitle\"].apply(clean_text_model)"
   ]
  },
  {
   "cell_type": "code",
   "execution_count": 108,
   "metadata": {},
   "outputs": [],
   "source": [
    "text_data = []\n",
    "for line in data_df[\"cleaned_abstitle\"]:\n",
    "    tokens = line.split(\" \");\n",
    "    #    if np.random.random() > .999:\n",
    "    #        print(tokens)\n",
    "    text_data.append(tokens)\n",
    "\n",
    "# creating dictionary of all unique words, and copus - bag of word for each document\n",
    "from gensim import corpora\n",
    "dictionary = corpora.Dictionary(text_data)\n",
    "corpus = [dictionary.doc2bow(text) for text in text_data]\n",
    "\n",
    "# printing corpus and dictionary to a file\n",
    "import pickle\n",
    "pickle.dump(corpus, open('corpus.pkl', 'wb'))\n",
    "#dictionary.save('dictionary.gensim')\n",
    "pickle.dump(dictionary,open(\"dictionary.pkl\",\"wb\"))"
   ]
  },
  {
   "cell_type": "code",
   "execution_count": 109,
   "metadata": {},
   "outputs": [
    {
     "name": "stdout",
     "output_type": "stream",
     "text": [
      "done in 1852.132s.\n"
     ]
    }
   ],
   "source": [
    "import gensim\n",
    "\n",
    "# number of expected topics\n",
    "NUM_TOPICS = 14\n",
    "\n",
    "# training model \n",
    "t0 = time()\n",
    "ldamodel = gensim.models.ldamulticore.LdaMulticore(\n",
    "    corpus, num_topics = NUM_TOPICS, chunksize=10000, \n",
    "    id2word=dictionary, iterations=1000, passes=100, \n",
    "    workers=4) \n",
    "print(\"done in %0.3fs.\" % (time() - t0))\n",
    "\n",
    "# save the model d\n",
    "ldamodel.save('model14.gensim')\n",
    "#topics = ldamodel.print_topics(num_words=6)\n",
    "#for topic in topics:\n",
    "#    print(topic)"
   ]
  },
  {
   "cell_type": "code",
   "execution_count": 110,
   "metadata": {},
   "outputs": [
    {
     "name": "stdout",
     "output_type": "stream",
     "text": [
      "(0, '0.017*\"data\" + 0.016*\"method\" + 0.014*\"estim\" + 0.013*\"use\" + 0.012*\"infer\" + 0.011*\"problem\"')\n",
      "(1, '0.056*\"gener\" + 0.020*\"train\" + 0.013*\"propos\" + 0.013*\"imag\" + 0.012*\"latent\" + 0.012*\"distribut\"')\n",
      "(2, '0.027*\"agent\" + 0.020*\"reinforc\" + 0.017*\"environ\" + 0.015*\"task\" + 0.015*\"control\" + 0.014*\"robot\"')\n",
      "(3, '0.012*\"system\" + 0.011*\"program\" + 0.010*\"logic\" + 0.010*\"reason\" + 0.010*\"use\" + 0.008*\"knowledg\"')\n",
      "(4, '0.088*\"network\" + 0.048*\"neural\" + 0.034*\"deep\" + 0.022*\"train\" + 0.014*\"architectur\" + 0.013*\"convolut\"')\n",
      "(5, '0.025*\"polici\" + 0.019*\"optim\" + 0.017*\"problem\" + 0.015*\"onlin\" + 0.014*\"function\" + 0.014*\"decis\"')\n",
      "(6, '0.026*\"data\" + 0.022*\"label\" + 0.017*\"dataset\" + 0.016*\"classif\" + 0.016*\"task\" + 0.015*\"train\"')\n",
      "(7, '0.019*\"data\" + 0.016*\"system\" + 0.015*\"user\" + 0.014*\"use\" + 0.011*\"machin\" + 0.008*\"recommend\"')\n",
      "(8, '0.035*\"graph\" + 0.025*\"featur\" + 0.021*\"cluster\" + 0.019*\"method\" + 0.017*\"data\" + 0.016*\"embed\"')\n",
      "(9, '0.017*\"bound\" + 0.016*\"function\" + 0.013*\"gradient\" + 0.012*\"optim\" + 0.011*\"show\" + 0.011*\"problem\"')\n",
      "(10, '0.050*\"adversari\" + 0.035*\"attack\" + 0.030*\"robust\" + 0.017*\"exampl\" + 0.016*\"train\" + 0.015*\"classifi\"')\n",
      "(11, '0.020*\"task\" + 0.019*\"languag\" + 0.016*\"sequenc\" + 0.014*\"gener\" + 0.013*\"word\" + 0.013*\"neural\"')\n",
      "(12, '0.025*\"optim\" + 0.023*\"problem\" + 0.017*\"search\" + 0.016*\"comput\" + 0.011*\"effici\" + 0.011*\"use\"')\n",
      "(13, '0.031*\"imag\" + 0.019*\"use\" + 0.019*\"detect\" + 0.011*\"featur\" + 0.011*\"object\" + 0.010*\"method\"')\n"
     ]
    }
   ],
   "source": [
    "# save the model d\n",
    "ldamodel = LdaModel.load('model14.gensim')\n",
    "\n",
    "topics = ldamodel.print_topics(num_words=6)\n",
    "for topic in topics:\n",
    "    print(topic)"
   ]
  },
  {
   "cell_type": "code",
   "execution_count": null,
   "metadata": {},
   "outputs": [],
   "source": []
  },
  {
   "cell_type": "code",
   "execution_count": null,
   "metadata": {},
   "outputs": [],
   "source": []
  },
  {
   "cell_type": "markdown",
   "metadata": {},
   "source": [
    "## Load Saved Model and Model Parameters"
   ]
  },
  {
   "cell_type": "code",
   "execution_count": null,
   "metadata": {},
   "outputs": [],
   "source": []
  },
  {
   "cell_type": "code",
   "execution_count": null,
   "metadata": {},
   "outputs": [],
   "source": [
    "tf = cPickle.load(open('model_parameters/tf.p','rb'),encoding='iso-8859-1')"
   ]
  },
  {
   "cell_type": "code",
   "execution_count": null,
   "metadata": {},
   "outputs": [],
   "source": [
    "tfidf = cPickle.load(open('model_parameters/tfidf.p','rb'),encoding='iso-8859-1')"
   ]
  },
  {
   "cell_type": "code",
   "execution_count": null,
   "metadata": {},
   "outputs": [],
   "source": [
    "tfidf_feature_names = cPickle.load(open('model_parameters/tfidf_feature_names.p','rb'),encoding='iso-8859-1')"
   ]
  },
  {
   "cell_type": "code",
   "execution_count": null,
   "metadata": {},
   "outputs": [],
   "source": [
    "lda = cPickle.load(open('model_parameters/LDAclassifier.model','rb'),encoding='iso-8859-1')"
   ]
  },
  {
   "cell_type": "markdown",
   "metadata": {},
   "source": [
    "## Get predictions for retrieval tasks"
   ]
  },
  {
   "cell_type": "code",
   "execution_count": null,
   "metadata": {},
   "outputs": [],
   "source": [
    "## Get preditions to find nearest neighbors\n",
    "pred = [lda.transform(tf[index]) for index in range(0,len(data_df))]\n",
    "pred = np.array(pred)"
   ]
  },
  {
   "cell_type": "code",
   "execution_count": null,
   "metadata": {},
   "outputs": [],
   "source": [
    "cPickle.dump(pred, open('model_parameters/pred.p', 'wb')) "
   ]
  },
  {
   "cell_type": "code",
   "execution_count": null,
   "metadata": {},
   "outputs": [],
   "source": [
    "pred = cPickle.load(open('model_parameters/pred.p','rb'),encoding='iso-8859-1')"
   ]
  },
  {
   "cell_type": "code",
   "execution_count": null,
   "metadata": {},
   "outputs": [],
   "source": [
    "print(pred[0])\n",
    "print(pred[1])\n",
    "print(pred[2])\n",
    "print(pred[3])"
   ]
  },
  {
   "cell_type": "code",
   "execution_count": null,
   "metadata": {},
   "outputs": [],
   "source": [
    "def QueryLda(model,data,q,kneighbors,predictions,tfidf):\n",
    "    from scipy.spatial import distance\n",
    "    N = len(predictions)\n",
    "    query = predictions[q]\n",
    "    dis = np.array([(int(i),distance.euclidean(predictions[i],query)) for i in range(0,N)])\n",
    "    dis = dis[dis[:,1].argsort()]\n",
    "    #print(dis[0:kneighbors])\n",
    "    return [int(dis[x,0]) for x in range(0,kneighbors)]"
   ]
  },
  {
   "cell_type": "code",
   "execution_count": null,
   "metadata": {},
   "outputs": [],
   "source": [
    "def printneighbors(nb,model,data,tfidf,predictions):\n",
    "    for n in nb:\n",
    "        print (n)\n",
    "        print (data.loc[n])\n",
    "        print (data_df['abstitle'][n])\n",
    "        print (predictions[n])\n",
    "    print ( \" \")"
   ]
  },
  {
   "cell_type": "code",
   "execution_count": null,
   "metadata": {},
   "outputs": [],
   "source": [
    "def tfidfToWords(doc, tf_idf, feature_names,highestn):\n",
    "    feature_index = tf_idf[doc,:].nonzero()[1]\n",
    "    tfidf_scores = zip(feature_index, [tf_idf[doc, x] for x in feature_index])\n",
    "    out = []\n",
    "    for w, s in [(feature_names[i], s) for (i, s) in tfidf_scores]:\n",
    "        tmp = [w, s]\n",
    "        out.append(tmp)\n",
    "    out = np.array(out)\n",
    "    perm = np.argsort(out[:,1])\n",
    "    out = out[perm][::-1]\n",
    "#     for k in range(0,highestn):\n",
    "#         print out[k]\n",
    "    return out[:highestn]"
   ]
  },
  {
   "cell_type": "code",
   "execution_count": null,
   "metadata": {},
   "outputs": [],
   "source": [
    "def plotbar(x,doc,outfile):\n",
    "    import matplotlib.pyplot as plt\n",
    "    %matplotlib inline\n",
    "    category = x[:,0]\n",
    "    category_counts = x[:,1]\n",
    "    indexes = np.arange(len(category))\n",
    "    width=0.7\n",
    "    plt.figure(figsize=(12, 5), dpi=80, facecolor='w', edgecolor='k')\n",
    "    titlelabel = \"term frequency (tf) of document: \" + str(doc)\n",
    "    plt.title(titlelabel,fontsize=25, color='black')\n",
    "    plt.bar(indexes,category_counts,width)\n",
    "    plt.xticks(indexes+width*0.5,category,rotation='vertical',fontsize=16)\n",
    "    plt.yticks(fontsize=16)\n",
    "    plt.tight_layout()\n",
    "    plt.savefig(outfile)\n",
    "    plt.show()"
   ]
  },
  {
   "cell_type": "markdown",
   "metadata": {},
   "source": [
    "#### Document: 365"
   ]
  },
  {
   "cell_type": "code",
   "execution_count": null,
   "metadata": {},
   "outputs": [],
   "source": []
  },
  {
   "cell_type": "code",
   "execution_count": null,
   "metadata": {},
   "outputs": [],
   "source": [
    "id = 356\n",
    "neigh = QueryLda(lda,data_df,id,6,pred,tfidf)\n",
    "printneighbors(neigh,lda,data_df,tfidf,pred)"
   ]
  },
  {
   "cell_type": "code",
   "execution_count": null,
   "metadata": {},
   "outputs": [],
   "source": [
    "#wordcount = np.array(tfidfToWords(id,tf,tfidf_feature_names,20))\n",
    "#plotbar(wordcount,id,\"query1.pdf\")"
   ]
  },
  {
   "cell_type": "code",
   "execution_count": null,
   "metadata": {},
   "outputs": [],
   "source": []
  },
  {
   "cell_type": "markdown",
   "metadata": {
    "collapsed": true
   },
   "source": [
    "### Document 21281"
   ]
  },
  {
   "cell_type": "code",
   "execution_count": null,
   "metadata": {},
   "outputs": [],
   "source": [
    "id = 21281\n",
    "neigh = QueryLda(lda,data_df,id,6,pred,tfidf)\n",
    "printneighbors(neigh,lda,data_df,tfidf,pred)"
   ]
  },
  {
   "cell_type": "code",
   "execution_count": null,
   "metadata": {},
   "outputs": [],
   "source": []
  },
  {
   "cell_type": "code",
   "execution_count": null,
   "metadata": {},
   "outputs": [],
   "source": [
    "#wordcount = np.array(tfidfToWords(21281,tf,tfidf_feature_names,20))\n",
    "#plotbar(wordcount,21281,\"query2.pdf\")"
   ]
  },
  {
   "cell_type": "code",
   "execution_count": null,
   "metadata": {},
   "outputs": [],
   "source": []
  },
  {
   "cell_type": "markdown",
   "metadata": {
    "collapsed": true
   },
   "source": [
    "### Document 32461"
   ]
  },
  {
   "cell_type": "code",
   "execution_count": null,
   "metadata": {},
   "outputs": [],
   "source": [
    "#neigh = QueryLda(lda,data_df,32461,10,pred,tf)\n",
    "#printneighbors(neigh,lda,data_df,tf)\n",
    "#tfidfToWords(32461,tf,tfidf_feature_names,20)"
   ]
  },
  {
   "cell_type": "code",
   "execution_count": null,
   "metadata": {},
   "outputs": [],
   "source": [
    "#wordcount = np.array(tfidfToWords(32461,tf,tfidf_feature_names,30))\n",
    "#plotbar(wordcount,32461,\"query3.pdf\")"
   ]
  },
  {
   "cell_type": "code",
   "execution_count": null,
   "metadata": {},
   "outputs": [],
   "source": []
  },
  {
   "cell_type": "markdown",
   "metadata": {
    "collapsed": true
   },
   "source": [
    "### Document 209992"
   ]
  },
  {
   "cell_type": "code",
   "execution_count": null,
   "metadata": {},
   "outputs": [],
   "source": [
    "data_df[data_df['id']=='1604.03621']"
   ]
  },
  {
   "cell_type": "code",
   "execution_count": null,
   "metadata": {},
   "outputs": [],
   "source": [
    "id = 209992\n",
    "neigh = QueryLda(lda,data_df,id,6,pred,tfidf)\n",
    "printneighbors(neigh,lda,data_df,tfidf,pred)"
   ]
  },
  {
   "cell_type": "code",
   "execution_count": null,
   "metadata": {},
   "outputs": [],
   "source": [
    "#wordcount = np.array(tfidfToWords(209992,tf,tfidf_feature_names,30))\n",
    "#plotbar(wordcount,209992,\"query4.pdf\")"
   ]
  },
  {
   "cell_type": "code",
   "execution_count": null,
   "metadata": {},
   "outputs": [],
   "source": []
  },
  {
   "cell_type": "markdown",
   "metadata": {
    "collapsed": true
   },
   "source": [
    "### Document 168936"
   ]
  },
  {
   "cell_type": "code",
   "execution_count": null,
   "metadata": {},
   "outputs": [],
   "source": [
    "data_df[data_df['id']=='1309.5119']"
   ]
  },
  {
   "cell_type": "code",
   "execution_count": null,
   "metadata": {},
   "outputs": [],
   "source": [
    "id = 168936\n",
    "neigh = QueryLda(lda,data_df,id,6,pred,tfidf)\n",
    "printneighbors(neigh,lda,data_df,tfidf,pred)"
   ]
  },
  {
   "cell_type": "code",
   "execution_count": null,
   "metadata": {},
   "outputs": [],
   "source": [
    "#wordcount = np.array(tfidfToWords(168936,tf,tfidf_feature_names,30))\n",
    "#plotbar(wordcount,168936,\"query5.pdf\")"
   ]
  },
  {
   "cell_type": "code",
   "execution_count": null,
   "metadata": {},
   "outputs": [],
   "source": []
  },
  {
   "cell_type": "code",
   "execution_count": null,
   "metadata": {},
   "outputs": [],
   "source": []
  },
  {
   "cell_type": "markdown",
   "metadata": {},
   "source": [
    "# Backup "
   ]
  },
  {
   "cell_type": "code",
   "execution_count": null,
   "metadata": {},
   "outputs": [],
   "source": [
    "# Vectorize Text Data\n",
    "\n",
    "<h3> term freq. (tf) vectorizer. </h3> \n",
    "\n",
    "print(\"Building term frequency\")\n",
    "stop_words = stopwords.words('english')\n",
    "tf_vectorizer = CountVectorizer(stop_words=stop_words,ngram_range=(1, 1))\n",
    "tf = tf_vectorizer.fit_transform(data_df.iloc[0:10000]['cleaned_abstitle'])\n",
    "#cPickle.dump(tf, open('model_parameters/tf.p', 'wb'))\n",
    "\n",
    "#tf_vectorizer.get_feature_names()\n",
    "\n",
    "<h3> tf-idf vectorizer. </h3> \n",
    "\n",
    "print (\"Building tfidf sparse matrix\")\n",
    "tfidf_vectorizer = TfidfVectorizer(sublinear_tf=True,ngram_range=(1,2),max_features=10)\n",
    "tfidf = tfidf_vectorizer.fit_transform(data_df['cleaned_abstitle'])\n",
    "tfidf_feature_names = tfidf_vectorizer.get_feature_names()\n",
    "#tfidf = normalize(tfidf)\n",
    "\n",
    "cPickle.dump(tfidf, open('model_parameters/tfidf.p', 'wb')) \n",
    "cPickle.dump(tfidf_feature_names, open('model_parameters/tfidf_feature_names.p', 'wb'))\n",
    "\n",
    "tfidf_feature_names\n",
    "\n",
    "lda = LatentDirichletAllocation(n_components=25,max_iter=20,\n",
    "                                batch_size=128,learning_decay=0.7,\n",
    "                                learning_method='online',learning_offset=10.,\n",
    "                                mean_change_tol=0.001,random_state=0,\n",
    "                                verbose=128)\n",
    "\n",
    "t0 = time()\n",
    "print(\"Starting to fit the LDA model @ time = \", t0)\n",
    "lda.fit(tf)\n",
    "print(\"done in %0.3fs.\" % (time() - t0))\n",
    "\n"
   ]
  }
 ],
 "metadata": {
  "kernelspec": {
   "display_name": "Python [conda env:root] *",
   "language": "python",
   "name": "conda-root-py"
  },
  "language_info": {
   "codemirror_mode": {
    "name": "ipython",
    "version": 3
   },
   "file_extension": ".py",
   "mimetype": "text/x-python",
   "name": "python",
   "nbconvert_exporter": "python",
   "pygments_lexer": "ipython3",
   "version": "3.7.3"
  }
 },
 "nbformat": 4,
 "nbformat_minor": 1
}
